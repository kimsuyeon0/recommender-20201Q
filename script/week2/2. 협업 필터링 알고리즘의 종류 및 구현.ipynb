{
 "cells": [
  {
   "cell_type": "markdown",
   "metadata": {
    "nbpresent": {
     "id": "d664152a-b8bc-40ad-85a1-c8afd010cd57"
    }
   },
   "source": [
    "╔══<i><b>Public-AI</b></i>═══════════════════════════════════════════════════╗\n",
    "### ✎&nbsp;&nbsp;week 2. 협업 필터링\n",
    "# Section 2. 협업 필터링 알고리즘의 종류 및 구현\n",
    "\n",
    "협업 필터링에는 유저 기반 협업 필터링과 아이템 기반 협업 필터링이 있습니다. 두 가지 종류의 협업 필터링 알고리즘을 배우면서 협업 필터링을 보다 깊이 이해해보겠습니다. 그 다음에는 앞서 샘플 리뷰 데이터로 배운 유사도 계산을 보다 큰 데이터셋에 적용해 아이템 기반 협업 필터링을 직접 구현해보겠습니다.\n",
    "\n",
    "### _Objective_ \n",
    "\n",
    "* [ **협업필터링 알고리즘의 종류**] 협업 필터링의 핵심 알고리즘, 유저 기반 협업 필터링과 아이템 기반 협업 필터링의 개념을 배웁니다.\n",
    "* [ **구현** ] Movie-lens 데이터를 이용해 아이템 기반 협업 필터링을 구현해봅니다.\n",
    "<br>\n",
    "\n",
    "╚═══════════════════════════════════════════════════════════╝"
   ]
  },
  {
   "cell_type": "code",
   "execution_count": 1,
   "metadata": {
    "nbpresent": {
     "id": "374fb351-7edb-4c7c-b4af-c0981ffe2836"
    }
   },
   "outputs": [],
   "source": [
    "# 필요한 라이브러리 가져오기\n",
    "%matplotlib inline\n",
    "import numpy as np\n",
    "import pandas as pd\n",
    "from tqdm import tqdm\n",
    "import matplotlib.pyplot as plt\n",
    "\n",
    "from tensorflow.keras.utils import get_file\n",
    "np.set_printoptions(3)"
   ]
  },
  {
   "cell_type": "markdown",
   "metadata": {
    "nbpresent": {
     "id": "55e1b8f1-accf-4f22-ab6c-3ea943756c29"
    }
   },
   "source": [
    "#### 데이터 가져오기\n",
    "\n",
    "이번 시간 동안 Pandas로 연산을 진행하기 위해서, 미리 CSV파일로 만들어진 데이터들을 직접 부르도록 하겠습니다."
   ]
  },
  {
   "cell_type": "code",
   "execution_count": 2,
   "metadata": {
    "nbpresent": {
     "id": "4dd373df-e2a5-4b06-a8ef-f8e454606691"
    }
   },
   "outputs": [],
   "source": [
    "# 데이터를 다운받은 후, 로컬 컴퓨터에 저장합니다.\n",
    "# 한번 다운받은 후에는 다운받은 데이터로 바로 불러오게 됩니다.\n",
    "movie_path = get_file(\"movies.csv\",\n",
    "                      \"https://pai-datasets.s3.ap-northeast-2.amazonaws.com/recommender_systems/movielens/datasets/movies.csv\")\n",
    "movie_df = pd.read_csv(movie_path)\n",
    "\n",
    "genre_path = get_file(\"genres.csv\",\n",
    "                      \"https://pai-datasets.s3.ap-northeast-2.amazonaws.com/recommender_systems/movielens/datasets/genres.csv\")\n",
    "genre_df = pd.read_csv(genre_path)\n",
    "\n",
    "rating_path = get_file(\"ratings.csv\",\n",
    "    \"https://pai-datasets.s3.ap-northeast-2.amazonaws.com/recommender_systems/movielens/datasets/ratings.csv\")\n",
    "rating_df = pd.read_csv(rating_path)\n",
    "rating_df.drop(columns='rated_at',inplace=True)\n",
    "\n",
    "# 메모리 문제를 좀 더 완화하기 위해 8비트로 변경(0~255)\n",
    "rating_df.rating = (rating_df.rating*2).astype(np.uint8)\n",
    "rating_df.movie_id = rating_df.movie_id.astype(np.uint32)\n",
    "rating_df.user_id = rating_df.user_id.astype(np.uint32)"
   ]
  },
  {
   "cell_type": "markdown",
   "metadata": {
    "nbpresent": {
     "id": "0392ed18-eeac-49da-ba04-4c7c3884f399"
    }
   },
   "source": [
    "# \\[ 협업 필터링 알고리즘의 종류: 유저 기반 협업 필터링과 아이템 기반 협업 필터링 \\]\n",
    "---\n"
   ]
  },
  {
   "cell_type": "markdown",
   "metadata": {
    "nbpresent": {
     "id": "92871359-7980-4528-b06e-96e4ac17e098"
    }
   },
   "source": [
    "## 1. User-Based Collaborative Filtering 과 Item-Based Collaborative Filtering\n",
    "\n",
    "<img src=\"https://i.imgur.com/JRe39qe.png\" width=\"800\">\n",
    "\n",
    "협업 필터링(Collaborative Filtering)을 통해 추천하는 방법은 크게 2가지가 있습니다. \n",
    "\n",
    "* 유저 기반 협업 필터링(User-Based Collaborative Filtering) : 유저와 비슷한 유저가 좋게 평가한 영화를 추천\n",
    "* 아이템 기반 협업 필터링(Item-Based Collaborative Filtering) : 유저가 좋아하는 영화와 비슷한 영화를 추천\n",
    "\n",
    "두 알고리즘의 중요한 차이는 바로 <무엇에 대한 유사도>를 계산하느냐에 있습니다. 유저 기반 협업 필터링은 유저 간의 유사도를 계산하여 추천하는 방식이고, 아이템 기반 협업 필터링은 아이템 간의 유사도를 계산하는 방식입니다. 즉, 앞서 Section 1에서 배운 유사도를 이용하여 유저 간의 유사도를 계산할 것인지, 제품 간의 유사도를 계산할 것인지에 따른 차이가 있는 것이죠. "
   ]
  },
  {
   "cell_type": "markdown",
   "metadata": {
    "nbpresent": {
     "id": "75124267-f5b2-4c41-b556-46bb045e6463"
    }
   },
   "source": [
    "## 2. User Similarity Matrix\n",
    "\n",
    "Section 1에서는 유저 5명을 놓고 유사도를 계산해보았는데, 실제 시스템에는 훨씬 많은 유저가 있습니다. 유저 간의 유사도 행렬(User Similarity Matrix)이란 아래와 같이 각 유저 간의 영화 평점을 가지고 유사도 점수를 계산해 넣은 행렬입니다.이전 시간에 했던 유사도 계산이 사실상 위의 행렬 내 값들을 찾는 것과 동일합니다.\n",
    "\n",
    "<img src=\"https://i.imgur.com/GNPZj56.png\" width=\"800\">"
   ]
  },
  {
   "cell_type": "markdown",
   "metadata": {
    "nbpresent": {
     "id": "1ab553df-5c0d-46ba-9183-3a7725ca493f"
    }
   },
   "source": [
    "## 3. Item Similarity Matrix\n",
    "아이템 간의 유사도 행렬(Item Similarity Matrix)이란 역으로 각 영화 별 유저들의 레이팅에 대한 비교로 유사도 점수를 계산해 넣어 만든 행럴입니다. 아마존에서 사용하고 있는 추천시스템이 바로 이러한 아이템 유사도 행렬을 사용하여 **아이템 기반 협업 필터링(Item-Based Collaborative Filtering) 추천 시스템**입니다. 주기적으로 아이템 유사도 행렬을 계산해주기만 하면, 운영 환경에서는 계산된 유사도 행렬에 따라 제품을 추천하면 되기 때문에 서버의 연산량 이슈가 크게 발생하지 않는 효율적인 추천 시스템입니다. 이번 시간에는 아래의 아이템 기반 협업필터링(Item-Based Collaborative Filtering)을 중심으로 구현해보도록 하겠습니다.\n",
    "\n",
    "\n",
    "<img src=\"https://i.imgur.com/UaOmANU.png\" width=\"800\">"
   ]
  },
  {
   "cell_type": "markdown",
   "metadata": {
    "nbpresent": {
     "id": "64d8186e-9e7f-407b-a005-76632c6aefb0"
    }
   },
   "source": [
    "# \\[ 구현 \\]\n",
    "---\n",
    "\n",
    "Movie-lens 데이터를 이용해 아이템 기반 협업 필터링을 구현해보겠습니다. 보다 구체적으로는 전체 데이터를 사용할 경우 데이터가 보이는 희소성 문제를 살펴본 후, 이 문제점을 해결하기 위해 기준을 세워 협업 필터링 시스템에서 사용할 아이템과 유저 데이터를 걸러내겠습니다. 그 다음에 지난 section에서 배운 유사도 알고리즘으로 유저도 행렬을 만들어보겠습니다. 끝으로는 유사도 행렬을 이용해 영화를 추천해보겠습니다."
   ]
  },
  {
   "cell_type": "markdown",
   "metadata": {
    "nbpresent": {
     "id": "9238e6c5-7efa-467a-aa21-2adf3688e19d"
    }
   },
   "source": [
    "## 1. 데이터 속 문제 - 데이터의 Sparsity\n",
    "\n",
    "효과적인 추천시스템을 만들기 위해 가지고 있는 모든 데이터를 써야할 것 같지만, 사실 가지고 있는 모든 데이터를 사용하게 되면 다양한 문제가 생깁니다. 데이터의 희소성(sparsity) 문제는 그 중 하나입니다. 데이터가 희소(Sparse)하다는 의미는 유저 수와 영화 수는 많은 데 비해서 유저와 아이템 사이의 상호작용 데이터는 극히 드물다는 것을 의미합니다. 온라인 쇼핑몰의 경우에 적용해서 생각해볼까요? 한 유저가 쇼핑몰에 있는 모든 상품을 주문하는 것이 아니기 때문에 유저와 상호작용이 발생한 상품은 전체에서 극히 일부일 것입니다. <br>\n",
    "지금 다루고 있는 영화 리뷰 데이터에서도 마찬가지입니다. 한 유저가 평점을 남기는 영화는 전체 영화 중에 극히 일부일 것입니다. Movie-lens 데이터의 희소성은 어느 정도인지 알아봅시다."
   ]
  },
  {
   "cell_type": "code",
   "execution_count": null,
   "metadata": {
    "nbpresent": {
     "id": "9e520742-c4fa-40db-8725-316cff3e5205"
    }
   },
   "outputs": [],
   "source": [
    "num_user = #\n",
    "print(\"총 유저의 수 : {}\".format(num_user))\n",
    "\n",
    "num_item = #\n",
    "print(\"총 아이템의 수 : {}\".format(num_item))\n",
    "\n",
    "ui_matrix_size = #\n",
    "print(\"유저/아이템 행렬의 크기 : {}\".format(ui_matrix_size))\n",
    "\n",
    "num_rating  = #\n",
    "print(\"평점 데이터의 갯수 : {}\".format(num_rating))\n",
    "\n",
    "density = #\n",
    "print(\"Matrix 중 값이 있는 비율(Density) : {:.3%}\".format(density))"
   ]
  },
  {
   "cell_type": "markdown",
   "metadata": {
    "nbpresent": {
     "id": "662a2291-7edd-4863-8c0c-7aa2f4662e0c"
    }
   },
   "source": [
    "유저와 영화 정보를 가지고 유저-아이템 행렬(User-Item Matrix)를 만들면 30억개의 칸이 있는 행렬이 만들어지지만, 이 행렬을 채우는 평점 데이터는 2천만개 정도로, 전체의 0.5% 정도만 채워집니다."
   ]
  },
  {
   "cell_type": "markdown",
   "metadata": {
    "nbpresent": {
     "id": "948e67d4-cba7-428e-bdd4-bba23c4da69b"
    }
   },
   "source": [
    "## 2. 영화 최소 기준 선정하기\n",
    "\n",
    "전체 리뷰 데이터를 이용해 만든 유저-아이템 행렬은 밀집도(Density)가 매우 낮습니다. 평가를 한 횟수가 매우 적은 사람이나 받은 평점이 매우 적은 영화의 경우에는 유저나 영화 간 유사도가 지나치게 높게 나오거나, 적게 나올 우려도 있습니다. \n",
    "<br>\n",
    "이를 방지하기 위해 적게 별점을 남긴 사람과 별점을 적게 받은 영화의 케이스를 제거해야 합니다. 어떤 기준으로 제거하는 것이 좋을까요? <br>\n",
    "단순히 직관적으로 \"10개 미만의 별점을 받은 영화는 지운다\"고 정할 수도 있겠지만, 너무 많은 영화가 사라지면 좋은 추천 시스템을 만들기 어려워질 것입니다.<br>\n",
    "따라서 정보의 손실을 최소화하면서 동시에 데이터의 희소성은 최대한 줄일 수 있는 기준을 찾아야 합니다. <br>\n",
    "<br>\n",
    "별점 수가 많은 순서대로 영화를 정렬하여 별점 수의 누적합 변화가 적어지는 지점을 기준으로 영화를 제거하면, 별점 정보의 손실은 최소화 하면서 데이터의 희소성 문제는 최대한 줄일 수 있을 것입니다. 영화별 별점 수의 누적합을 구하기 위해 먼저 영화별 평점 갯수를 구해봅시다.<br>"
   ]
  },
  {
   "cell_type": "code",
   "execution_count": 4,
   "metadata": {
    "nbpresent": {
     "id": "ca42682f-cf82-4400-98be-5608c8909236"
    }
   },
   "outputs": [
    {
     "data": {
      "text/plain": [
       "296       67310\n",
       "356       66172\n",
       "318       63366\n",
       "593       63299\n",
       "480       59715\n",
       "          ...  \n",
       "97761         1\n",
       "111785        1\n",
       "127875        1\n",
       "114170        1\n",
       "131136        1\n",
       "Name: movie_id, Length: 26744, dtype: int64"
      ]
     },
     "execution_count": 4,
     "metadata": {},
     "output_type": "execute_result"
    }
   ],
   "source": [
    "# movieId 별 rating의 개수를 계산하고, 크기순 정렬\n",
    "count_per_movie = (\n",
    "    rating_df  # 별점 테이블에서\n",
    "    .movie_id  # 영화 아이디가 \n",
    "    .value_counts()  # 각각 몇번씩 있었는지 계산하고,\n",
    "    .sort_values(ascending=False)) # 이를 내림차순으로 정렬하세요\n",
    "count_per_movie"
   ]
  },
  {
   "cell_type": "code",
   "execution_count": null,
   "metadata": {
    "nbpresent": {
     "id": "19064cc7-b96f-482c-9fed-5fc06042644d"
    }
   },
   "outputs": [],
   "source": [
    "used_rating_ratio_per_count = (\n",
    "    count_per_movie.cumsum() # 내림차순으로 정렬된 갯수를 순서대로 누적합을 계산하고\n",
    "    / count_per_movie.sum()) # 이를 전체 별점갯수로 나누어주세요\n",
    "used_rating_ratio_per_count"
   ]
  },
  {
   "cell_type": "markdown",
   "metadata": {
    "nbpresent": {
     "id": "34253986-1095-42b3-856b-c794d2abf34b"
    }
   },
   "source": [
    "좀 더 보기편하도록 이 두 열을 합쳐주도록 하겠습니다."
   ]
  },
  {
   "cell_type": "code",
   "execution_count": null,
   "metadata": {
    "nbpresent": {
     "id": "2f8e8950-8a58-4f8c-a1a6-b21d7274dfc0"
    }
   },
   "outputs": [],
   "source": [
    "count_movie_df = pd.concat(\n",
    "    [count_per_movie, used_rating_ratio_per_count], axis=1)\n",
    "count_movie_df.columns = [\"movie_count\", \"used_rating_ratio\"]\n",
    "count_movie_df.head(100)"
   ]
  },
  {
   "cell_type": "markdown",
   "metadata": {
    "nbpresent": {
     "id": "f8daad2e-b89f-47b6-80fc-688152f93585"
    }
   },
   "source": [
    "위의 데이터는 movie_count가 제일 많은 것부터 적은 것까지 순서대로 더해가며 누적합 비율을 계산한 것입니다. 이를 통해 우리가 알고자 하는 것은 영화 평가 수 기준 Top-K가 평가 중에서 차지하는 비율입니다.<br>\n",
    "<br>\n",
    "위의 경우 Top-1 영화의 경우 전체 평점 데이터의 0.3%를 차지하고 있고, 1위부터 100위까지의 영화(Top-100)의 리뷰를 모두 합치면 전체 리뷰의 17.9% 가량 됩니다.\n",
    "전체 리뷰 정보의 90%를 포괄하는 수준으로 영화 수를 제한하면 어느 정도의 영화가 커버되는지 그래프로 그려봅시다."
   ]
  },
  {
   "cell_type": "code",
   "execution_count": null,
   "metadata": {
    "nbpresent": {
     "id": "dd5a0146-801b-496a-ba00-a10111e09cf8"
    }
   },
   "outputs": [],
   "source": [
    "(\n",
    "    count_movie_df\n",
    "    .used_rating_ratio\n",
    "    .reset_index(drop=True)\n",
    "    .plot()\n",
    ")\n",
    "plt.plot([3400,3400],[0, 1.0], 'r--')\n",
    "plt.plot([0,25000],[0.9, 0.9], 'r--')\n",
    "plt.show()"
   ]
  },
  {
   "cell_type": "markdown",
   "metadata": {
    "nbpresent": {
     "id": "15ef98e3-ec51-487a-9b61-eca8b06ceacb"
    }
   },
   "source": [
    "영화별 평점 데이터를 평점이 많은 순으로 합쳤을 때, 전체 평점 데이터의 90%쯤 되는 지점의 영화가 가지는 최소 별점 갯수를 알아보겠습니다."
   ]
  },
  {
   "cell_type": "code",
   "execution_count": null,
   "metadata": {
    "nbpresent": {
     "id": "51b1dc79-1f64-4f72-90d4-d5e6355ce935"
    }
   },
   "outputs": [],
   "source": [
    "min_threshold = (\n",
    "    count_movie_df\n",
    "    [count_movie_df.used_rating_ratio<0.9]\n",
    "    .movie_count\n",
    "    .min()\n",
    ")\n",
    "print(\"영화의 최소 평가 수 : {}번\".format(min_threshold))"
   ]
  },
  {
   "cell_type": "markdown",
   "metadata": {
    "nbpresent": {
     "id": "c789d275-f899-4aba-8872-715bcbe82fe3"
    }
   },
   "source": [
    "최소한 879개의 평점을 받은 영화를 남기고, 나머지를 제거해야 하는 것으로 나옵니다."
   ]
  },
  {
   "cell_type": "code",
   "execution_count": null,
   "metadata": {
    "nbpresent": {
     "id": "b7d2a2ad-049f-48aa-8bc1-3e477e346ae3"
    }
   },
   "outputs": [],
   "source": [
    "used_movie = (\n",
    "    count_movie_df\n",
    "    [count_movie_df.used_rating_ratio<0.9]\n",
    "    .index\n",
    ")\n",
    "print(\"해당하는 영화 수 : {}개\".format(len(used_movie)))"
   ]
  },
  {
   "cell_type": "markdown",
   "metadata": {
    "nbpresent": {
     "id": "9dc69ec9-029c-45ef-80f9-7caf22ba3bad"
    }
   },
   "source": [
    "이 기준에 부합하는 영화는 3410개정도 됩니다."
   ]
  },
  {
   "cell_type": "code",
   "execution_count": null,
   "metadata": {
    "nbpresent": {
     "id": "92615425-a958-46bb-adc1-682e97cce4ca"
    }
   },
   "outputs": [],
   "source": [
    "truncated_rating_df = (\n",
    "    rating_df[rating_df.movie_id.isin(used_movie)])\n",
    "\n",
    "print(\"추리기 전 별점 데이터 수 : {}개\".format(len(rating_df)))\n",
    "print(\"추린 후 별점 데이터 수 : {}개\".format(len(truncated_rating_df)))"
   ]
  },
  {
   "cell_type": "markdown",
   "metadata": {
    "nbpresent": {
     "id": "402be7f9-839c-4d4d-86a0-8092264b7389"
    }
   },
   "source": [
    "영화를 추리고 나니, 별점 데이터가 1,799만개 정도 남았습니다."
   ]
  },
  {
   "cell_type": "markdown",
   "metadata": {
    "nbpresent": {
     "id": "9441430e-65d8-4dda-bf57-a1429c9702bc"
    }
   },
   "source": [
    "## 3. 유저 최소 기준 선정하기\n",
    "이번에는 동일한 방법으로 유사도 계산에 사용할 유저를 정할 최소 기준을 정해봅시다."
   ]
  },
  {
   "cell_type": "code",
   "execution_count": null,
   "metadata": {
    "nbpresent": {
     "id": "72a55d49-75a8-4274-ace9-452b4e227cdd"
    }
   },
   "outputs": [],
   "source": [
    "# user id 별 rating의 개수를 계산하고, 크기순 정렬\n",
    "count_per_user = (\n",
    "    truncated_rating_df  # 위에서 추려진 별점 테이블에서\n",
    "    .user_id  # 유저 아이디가\n",
    "    .value_counts()  # 각각 몇번씩 있었는지 계산하고,\n",
    "    .sort_values(ascending=False)  # 이를 내림차순으로 정렬하세요\n",
    ")\n",
    "count_per_user.head()"
   ]
  },
  {
   "cell_type": "code",
   "execution_count": null,
   "metadata": {
    "nbpresent": {
     "id": "0c5b7393-0956-4e11-86d6-b041b0f03c58"
    }
   },
   "outputs": [],
   "source": [
    "used_rating_ratio_per_count = (\n",
    "    count_per_user.cumsum() # 누적합 계산\n",
    "    / len(truncated_rating_df) # 전체 카운트 수 나눔\n",
    ")"
   ]
  },
  {
   "cell_type": "code",
   "execution_count": null,
   "metadata": {
    "nbpresent": {
     "id": "99ad929d-4d45-4746-87f2-bea6cf1fe6a9"
    }
   },
   "outputs": [],
   "source": [
    "count_user_df = pd.concat(\n",
    "    [count_per_user, used_rating_ratio_per_count], axis=1)\n",
    "count_user_df.columns = [\"user_count\", \"used_rating_ratio\"]\n",
    "count_user_df.head()"
   ]
  },
  {
   "cell_type": "markdown",
   "metadata": {
    "nbpresent": {
     "id": "66db513a-74e7-4450-9394-330925d7da53"
    }
   },
   "source": [
    "유저도 전체 리뷰 정보의 90%를 포괄하는 수준으로 수를 제한하도록 하겠습니다."
   ]
  },
  {
   "cell_type": "code",
   "execution_count": null,
   "metadata": {
    "nbpresent": {
     "id": "650a8ac4-2746-473d-9de4-801baf32d4d4"
    }
   },
   "outputs": [],
   "source": [
    "(\n",
    "    count_user_df\n",
    "    .used_rating_ratio\n",
    "    .reset_index(drop=True)\n",
    "    .plot()\n",
    ")\n",
    "plt.plot([81000,81000],[0, 1.0], 'r--')\n",
    "plt.plot([0,150000],[0.9, 0.9], 'r--')\n",
    "plt.show()"
   ]
  },
  {
   "cell_type": "markdown",
   "metadata": {
    "nbpresent": {
     "id": "dda1c49b-148f-4f02-83f7-b514ef30a1f1"
    }
   },
   "source": [
    "영화보다 누적 리뷰수 그래프가 완만하게 올라갑니다. 영화는 일부 영화에 평점 데이터가 많이 쏠려 있는 반면, 유저별 평점 데이터 수는 보다 고르게 분포한 것을 알 수 있습니다."
   ]
  },
  {
   "cell_type": "code",
   "execution_count": null,
   "metadata": {
    "nbpresent": {
     "id": "f8ecd7a1-b0bc-4f54-8fb6-b703506968fe"
    }
   },
   "outputs": [],
   "source": [
    "min_threshold = (\n",
    "    count_user_df\n",
    "    [count_user_df.used_rating_ratio<0.9]\n",
    "    .user_count\n",
    "    .min()\n",
    ")\n",
    "print(\"최소 유저의 평가 수 : {}\".format(min_threshold))"
   ]
  },
  {
   "cell_type": "markdown",
   "metadata": {
    "nbpresent": {
     "id": "359021d8-c5be-4863-970f-bb559829f9a3"
    }
   },
   "source": [
    "최소 51개의 리뷰를 남긴 유저를 남겨야 하는 것으로 나왔습니다."
   ]
  },
  {
   "cell_type": "code",
   "execution_count": null,
   "metadata": {
    "nbpresent": {
     "id": "f52f9df7-d3bc-485f-adce-ab323bc6ab8f"
    }
   },
   "outputs": [],
   "source": [
    "used_user = (\n",
    "    count_user_df\n",
    "    [count_user_df.used_rating_ratio<0.9]\n",
    "    .index\n",
    ")\n",
    "print(\"해당하는 유저 수 : {}\".format(len(used_user)))"
   ]
  },
  {
   "cell_type": "markdown",
   "metadata": {
    "nbpresent": {
     "id": "92f086bb-a4e5-4a99-b667-cdf12b26b15b"
    }
   },
   "source": [
    "이 기준에 부합하는 유저는 총 81,073명입니다."
   ]
  },
  {
   "cell_type": "code",
   "execution_count": null,
   "metadata": {
    "nbpresent": {
     "id": "cdde12f0-36cf-4c4c-a858-b3f2f82d69d5"
    }
   },
   "outputs": [],
   "source": [
    "truncated_rating_df = truncated_rating_df[\n",
    "    truncated_rating_df.user_id.isin(used_user)]\n",
    "\n",
    "print(\"추리기 전 별점 데이터 수 : {}개\".format(len(rating_df)))\n",
    "print(\"추린 후 별점 데이터 수 : {}개\".format(len(truncated_rating_df)))"
   ]
  },
  {
   "cell_type": "markdown",
   "metadata": {
    "nbpresent": {
     "id": "824d1394-85e7-4fcf-98cd-df5b66386b35"
    }
   },
   "source": [
    "유저를 기준으로 추리고 나니 별점 데이터가 1,620만개 정도 남았습니다."
   ]
  },
  {
   "cell_type": "markdown",
   "metadata": {
    "nbpresent": {
     "id": "6e22e844-4f76-4746-a621-d14c30ef6da1"
    }
   },
   "source": [
    "## 4. User-Item Matrix 만들기\n",
    "\n",
    "리뷰 데이터의 정보를 최대한 유지하면서도, 유저-아이템 행렬의 희소성 문제를 줄일 수 있도록 유저와 영화를 적정 수준에서 걸러낸 `truncated_rating_df`를 만들었습니다. 이를 활용해 유저-아이템 행렬을 만들어봅시다. 데이터가 커서 만들어지는 데 다소 시간이 걸릴 수 있습니다."
   ]
  },
  {
   "cell_type": "code",
   "execution_count": null,
   "metadata": {
    "nbpresent": {
     "id": "8dd5bc71-e3bf-425a-832f-7764eec3e201"
    }
   },
   "outputs": [],
   "source": [
    "ui_df = (\n",
    "    truncated_rating_df\n",
    "    .pivot_table(\n",
    "        values='rating',\n",
    "        index='user_id',\n",
    "        columns='movie_id'))"
   ]
  },
  {
   "cell_type": "markdown",
   "metadata": {
    "nbpresent": {
     "id": "4f26d9ee-857d-48cc-9aed-551c5585f8bb"
    }
   },
   "source": [
    "이전 시간에서 다루었듯이 유사도를 계산하기 위해 영화의 편향과 유저의 편향을 제거하도록 하겠습니다."
   ]
  },
  {
   "cell_type": "code",
   "execution_count": null,
   "metadata": {
    "nbpresent": {
     "id": "0d73ea04-201f-4e9f-a5da-356e011bff04"
    }
   },
   "outputs": [],
   "source": [
    "avg_rating = np.mean(ui_df)\n",
    "\n",
    "# 고객의 편향 계산하기\n",
    "user_bias = ui_df.mean(axis=1) - avg_rating\n",
    "# 아이템의 편향 계산하기\n",
    "item_bias = ui_df.mean(axis=0) - avg_rating\n",
    "\n",
    "adjusted_ui_df = (\n",
    "    ui_df  # 유저 / 아이템 행렬에서\n",
    "    .sub(user_bias,'rows') # 유저 편향을 제거하고\n",
    "    .sub(item_bias,'columns') # 아이템 편향을 제거하여 보정하자\n",
    ")"
   ]
  },
  {
   "cell_type": "markdown",
   "metadata": {
    "nbpresent": {
     "id": "28777990-3b91-4a64-a370-1299d50dc1ab"
    }
   },
   "source": [
    "----\n",
    "\n",
    "### \\[ additional \\]\n",
    "\n",
    "항상 두 편향을 모두 제거해야만 하는 것은 아닙니다. 이후 우리가 어떤 수식을 기준으로 편향을 적용함에 따라서 편향을 제거하는 방법은 달라질 수 있습니다.\n",
    "\n",
    "* Case 1) Pearon-Based Similarity\n",
    "\n",
    "    아이템 편향만을 제거해주면, Pearson-Based Similarity를 계산하기 위한 보정 수식이 됩니다.\n",
    "\n",
    "$$\n",
    "sim(i,j) = \\frac{\\sum_{u \\in U} (R_{u,i} - \\bar{R_{i}})(R_{u,j}- \\bar{R}_j)}{\\sqrt{\\sum_{u \\in U} (R_{u,i} - \\bar{R_{i}})^2}{\\sqrt{\\sum_{u \\in U} (R_{u,j} - \\bar{R_{j}})^2}} }\n",
    "$$\n",
    "\n",
    "* Case 2) Adjusted cosine Similarity\n",
    "    \n",
    "    유저 편향만을 제거해주면, Adjusted-Based Similarity를 계산하기 위한 보정 수식이 됩니다.\n",
    "$$\n",
    "sim(i,j) = \\frac{\\sum_{u \\in U} (R_{u,i} - \\bar{R_{u}})(R_{u,j}- \\bar{R}_u)}{\\sqrt{\\sum_{u \\in U} (R_{u,i} - \\bar{R_{u}})^2}{\\sqrt{\\sum_{u \\in U} (R_{u,j} - \\bar{R_{u}})^2}} }\n",
    "$$\n",
    "\n",
    "----"
   ]
  },
  {
   "cell_type": "markdown",
   "metadata": {
    "nbpresent": {
     "id": "c9fb3933-b52b-456f-a182-51399536a1d3"
    }
   },
   "source": [
    "그리고 결측값(`np.nan`으로 입력되어 있음)을 0으로 채워주도록 합니다. 이러한 결측치(Missing Value)를 어떻게 채워주어야 하는가는 매우 중요한 문제이고, 값을 잘못 채울 경우에는 큰 성능 저하가 생기기도 합니다. 지금은 가장 간단한 방식인 0으로 채우는 방식으로 진행합니다."
   ]
  },
  {
   "cell_type": "code",
   "execution_count": null,
   "metadata": {
    "nbpresent": {
     "id": "6935bb9a-c534-46d2-9c9b-b82164a743bf"
    }
   },
   "outputs": [],
   "source": [
    "adjusted_ui_df = adjusted_ui_df.fillna(0)"
   ]
  },
  {
   "cell_type": "markdown",
   "metadata": {
    "nbpresent": {
     "id": "62e4375d-6c15-4f9c-908b-0ea6c6c99406"
    }
   },
   "source": [
    "## 5. 코사인 유사도를 활용하여 유사도 행렬 구성하기\n",
    "\n",
    "\n",
    "앞서 배운 코사인 유사도 수식을 떠올려봅시다.\n",
    "$$\n",
    "Cosine\\_Similarity(X,Y) = \\frac{\\sum_{i=1}^{n}x_i y_i}{\\sqrt{\\sum_{i=1}^{n}x_i^2} \\sqrt{\\sum_{i=1}^{n}y_i^2}}\n",
    "$$\n",
    "\n",
    "영화X와 영화Y의 코사인 유사도를 구한다고 하면, 각 영화에 대해 유저$1$부터 유저$n$번째 유저가 남긴 평점 벡터를 가져와 위의 연산을 수행해야 합니다. 이를 함수로 정의하면 아래와 같이 정의할 수 있을 것입니다. `calculate_cosine_similarity`의 입력값 `x`와 `y`는 각각 영화X와 영화Y에 대해 전체 유저가 남긴 평점 벡터입니다."
   ]
  },
  {
   "cell_type": "code",
   "execution_count": null,
   "metadata": {
    "nbpresent": {
     "id": "f14f5009-ce7b-4933-9389-23546661f923"
    }
   },
   "outputs": [],
   "source": [
    "def calculate_cosine_similarity(x, y):\n",
    "    return np.sum(x*y)/(np.sqrt(np.sum(x**2)) * np.sqrt(np.sum(y**2)))\n",
    "\n",
    "## For 구문으로 작성하기\n"
   ]
  },
  {
   "cell_type": "markdown",
   "metadata": {
    "nbpresent": {
     "id": "a9d916b7-3a1f-4b7a-a68d-5463add2e48b"
    }
   },
   "source": [
    "### (1) 위의 코드를 개선하기 - `scikit-learn ` 모듈 이용하기\n",
    "\n",
    "Scipy에서는 거리를 계산하는 것을 빠르게 해주는 코드들을 제공합니다."
   ]
  },
  {
   "cell_type": "code",
   "execution_count": null,
   "metadata": {
    "nbpresent": {
     "id": "37e577d7-4a3e-4fd7-8454-157c271f37f7"
    }
   },
   "outputs": [],
   "source": [
    "from sklearn.metrics.pairwise import cosine_similarity\n",
    "\n",
    "## cosine_similarity를 이용하여 Item Similarity Matrix 구성하기\n"
   ]
  },
  {
   "cell_type": "markdown",
   "metadata": {
    "nbpresent": {
     "id": "a4a18006-712f-4b7a-b8d7-464dec1bbc22"
    }
   },
   "source": [
    "### \\[ Additional \\]  위의 코드를 개선하기( Vectorize 이용하기 )\n",
    "\n",
    "위와 같이(For 구문) 코드를 작성할 경우 행렬을 구성하는 데에 굉장히 오랜 시간이 소요됩니다.<br>\n",
    "<br>\n",
    "이를 보다 빠르게 하기 위해서는 numpy의 벡터 연산을 이용해 계산을 수행해야 합니다. 다시 코사인 유사도 수식을 조금 정리해봅시다. <br>\n",
    "<br>\n",
    "$$\n",
    "Cosine\\_Similarity(X,Y) = \\frac{\\sum_{i=1}^{n}x_i y_i}{\\sqrt{\\sum_{i=1}^{n}x_i^2} \\sqrt{\\sum_{i=1}^{n}y_i^2}} =  \\frac{X \\cdot Y}{|X| |Y|}\n",
    "$$\n",
    "<br>\n",
    "코사인 유사도에서 분자에 해당하는 $\\sum_{i=1}^{n}x_i y_i$는 사실 행렬$X$와 행렬$Y$에 행렬곱을 수행하는 것과 같고, 각 행렬 원소의 제곱합에 루트를 씌우는 것은 각 행렬의 크기(노름)를 구하는 것과 같습니다. <br>\n",
    "<br>\n",
    "$$\n",
    "Cosine\\_Similarity(X,Y) =  \\frac{X \\cdot Y}{|X| |Y|} = \\frac{X}{|X|}\\cdot\\frac{Y}{|Y|} = \\hat X \\cdot \\hat Y\n",
    "$$\n",
    "<br>\n",
    "또한 이는 각 벡터를 단위벡터화(정규화)한 후, 행렬곱을 적용하는 것과 동일합니다. 이렇게 수식을 정리하면 훨씬 더 빠르게 코사인 유사도를 계산할 수 있습니다.\n",
    "\n",
    "행렬곱을 적용한 코사인 유사도 수식을 유저-아이템 행렬(`adjusted_ui_matrix`)에 적용하려면 어떻게 해야 할까요?<br>"
   ]
  },
  {
   "cell_type": "markdown",
   "metadata": {},
   "source": [
    "![Imgur](https://i.imgur.com/e1Dpxnf.jpg)"
   ]
  },
  {
   "cell_type": "markdown",
   "metadata": {},
   "source": [
    "아래와 같이 유저-아이템 행렬($R$)을 전치하여 만든 아이템-유저 행렬($R^{T}$) 를 각각 정규화한 후, 행렬곱을 수행해야 합니다($=\\hat {R^T} \\cdot \\hat R$) <br>\n",
    "혹은 유저-아이템 행렬($R$)을 정규화한 후 전치하여, 행렬곱을 수행해야 합니다($={\\hat R}^T \\cdot \\hat R$) \n",
    "<br>\n",
    "$$\n",
    "Cosine\\_Similarity(R^T,R) =  \\frac{R^T \\cdot R}{|R^T| |R|} = \\frac{R^T}{|R^T|}\\cdot\\frac{R}{|R|} = \\hat {R^T} \\cdot \\hat R = {\\hat R}^T \\cdot \\hat R\n",
    "$$\n",
    "<br>"
   ]
  },
  {
   "cell_type": "markdown",
   "metadata": {
    "nbpresent": {
     "id": "46b9c11f-2760-4bef-9af1-57e52c839acc"
    }
   },
   "source": [
    "#### 1. 정규화하기"
   ]
  },
  {
   "cell_type": "code",
   "execution_count": null,
   "metadata": {
    "nbpresent": {
     "id": "a09af077-0550-4016-b96b-37c17a7414fb"
    }
   },
   "outputs": [],
   "source": []
  },
  {
   "cell_type": "markdown",
   "metadata": {
    "nbpresent": {
     "id": "3cfea54e-0c97-4145-b2ff-1fbd08e7a764"
    }
   },
   "source": [
    "#### 2. 행렬곱연산 수행하기 "
   ]
  },
  {
   "cell_type": "code",
   "execution_count": null,
   "metadata": {
    "nbpresent": {
     "id": "57af605d-3273-4df5-a445-a69fe6f46f9b"
    }
   },
   "outputs": [],
   "source": []
  },
  {
   "cell_type": "markdown",
   "metadata": {
    "nbpresent": {
     "id": "f0cf8802-c242-40c7-b88b-d58a255e54fc"
    }
   },
   "source": [
    "행렬곱을 이용하지 않았을 때에는 대략 1시간 정도 걸리는데, 행렬곱 연산을 이용하면 12.5초에 끝납니다. 대략 200배에서 300배 정도 빠르게 연산이 가능합니다."
   ]
  },
  {
   "cell_type": "code",
   "execution_count": null,
   "metadata": {
    "nbpresent": {
     "id": "230f7f69-bb76-4db7-bf53-13111d76b7c3"
    }
   },
   "outputs": [],
   "source": []
  },
  {
   "cell_type": "markdown",
   "metadata": {},
   "source": [
    "---"
   ]
  },
  {
   "cell_type": "markdown",
   "metadata": {
    "nbpresent": {
     "id": "29b53d7d-17a3-4f8f-97a6-fb627b4fc0cd"
    }
   },
   "source": [
    "### (3) 대각행렬을 0으로 채우기\n",
    "\n",
    "대각행렬은 자기 자신과의 유사도를 계산하는 것이기 때문에 항상 1로 나옵니다. 이럴 경우, 자기 자신을 추천하는 문제가 발생할 수 있어 자기 자신에 대해서는 유사도를 0으로 바꾸어 주었습니다."
   ]
  },
  {
   "cell_type": "code",
   "execution_count": null,
   "metadata": {
    "nbpresent": {
     "id": "a2e344da-82d6-43ca-8770-0bf5c92969eb"
    }
   },
   "outputs": [],
   "source": []
  },
  {
   "cell_type": "markdown",
   "metadata": {
    "nbpresent": {
     "id": "ec3287b6-90e9-4de9-b6e5-be2c9e78ca9d"
    }
   },
   "source": [
    "### (4) id를 title로 변경하기\n",
    "\n",
    "movie_id는 우리가 읽기가 어렵기 때문에, movie_title로 변경해주도록 하겠습니다."
   ]
  },
  {
   "cell_type": "code",
   "execution_count": null,
   "metadata": {
    "nbpresent": {
     "id": "766b0735-4653-4db2-a794-f9c160752fc9"
    }
   },
   "outputs": [],
   "source": [
    "movie_ids = ui_df.columns\n",
    "id2title = dict(zip(movie_df.id,movie_df.title))\n",
    "movie_titles = [id2title[i] for i in movie_ids]\n",
    "\n",
    "cosine_similarity_df = pd.DataFrame(\n",
    "    cosine_similarity, \n",
    "    index=movie_titles, \n",
    "    columns=movie_titles)\n",
    "\n",
    "cosine_similarity_df"
   ]
  },
  {
   "cell_type": "markdown",
   "metadata": {
    "nbpresent": {
     "id": "c4aabccb-a24d-4d1a-b9f5-8e0ba3236161"
    }
   },
   "source": [
    "## 6. 유사도 행렬을 바탕으로 유사 제품 추천하기\n",
    "\n",
    "이제 코사인 유사도로 채워진 유사도 행렬이 완성되었습니다. 유사도 행렬을 이용해서 어떤 영화를 보았다고 할 때, 어떤 영화를 추천하는지 봅시다."
   ]
  },
  {
   "cell_type": "markdown",
   "metadata": {
    "nbpresent": {
     "id": "c69bc125-4c31-4043-9308-d5fad11d9b1d"
    }
   },
   "source": [
    "#### 토이스토리와 유사한 영화"
   ]
  },
  {
   "cell_type": "code",
   "execution_count": null,
   "metadata": {
    "nbpresent": {
     "id": "4479b027-84ac-47a1-ae83-36170afec28e"
    }
   },
   "outputs": [],
   "source": [
    "(\n",
    "    cosine_similarity_df\n",
    "    .loc['Toy Story']\n",
    "    .sort_values(ascending=False)\n",
    "    .iloc[:5]\n",
    ")"
   ]
  },
  {
   "cell_type": "markdown",
   "metadata": {
    "nbpresent": {
     "id": "c9b62577-25ae-40fd-b631-c98cf068154c"
    }
   },
   "source": [
    "#### 스타워즈와 유사한 영화"
   ]
  },
  {
   "cell_type": "code",
   "execution_count": null,
   "metadata": {
    "nbpresent": {
     "id": "491414eb-397d-4663-85c1-8a93a49f17a2"
    }
   },
   "outputs": [],
   "source": [
    "(\n",
    "    cosine_similarity_df\n",
    "    .loc['Star Wars: Episode IV - A New Hope']\n",
    "    .sort_values(ascending=False)\n",
    "    .iloc[:5]\n",
    ")"
   ]
  },
  {
   "cell_type": "markdown",
   "metadata": {
    "nbpresent": {
     "id": "bccfa74a-9ce1-4e3c-bdee-1d20eb58c482"
    }
   },
   "source": [
    "#### 쏘우와 유사한 영화"
   ]
  },
  {
   "cell_type": "code",
   "execution_count": null,
   "metadata": {
    "nbpresent": {
     "id": "e9f07492-5b71-4cc1-ba9c-58f22a3fcb3b"
    }
   },
   "outputs": [],
   "source": [
    "(\n",
    "    cosine_similarity_df\n",
    "    .loc['Saw']\n",
    "    .sort_values(ascending=False)\n",
    "    .iloc[:5]\n",
    ")"
   ]
  },
  {
   "cell_type": "markdown",
   "metadata": {
    "nbpresent": {
     "id": "37bfa91d-d858-4c63-86d3-008f24e76f10"
    }
   },
   "source": [
    "#### 링와 유사한 영화"
   ]
  },
  {
   "cell_type": "code",
   "execution_count": null,
   "metadata": {
    "nbpresent": {
     "id": "830138b5-092a-495f-962f-f2a406620552"
    }
   },
   "outputs": [],
   "source": [
    "(\n",
    "    cosine_similarity_df\n",
    "    .loc['Ring, The']\n",
    "    .sort_values(ascending=False)\n",
    "    .iloc[:5]\n",
    ")"
   ]
  },
  {
   "cell_type": "markdown",
   "metadata": {
    "nbpresent": {
     "id": "560c5e9d-9b7e-42d0-9dee-0cafb22d6479"
    }
   },
   "source": [
    "# \\[  더 나아가기 \\]\n",
    "---\n",
    "\n"
   ]
  },
  {
   "cell_type": "markdown",
   "metadata": {
    "nbpresent": {
     "id": "19b53dd1-983a-4175-8adc-8737a9b5db33"
    }
   },
   "source": [
    "## 1. 유클리디안 유사도 수식을 통해 유사도 행렬 구성하기\n",
    "\n",
    "앞서 코사인 유사도를 이용해 유사도 행렬을 구하고, 영화를 추천하는 시스템을 구현해보았습니다. 이번에는 코사인 유사도 대신 유클리디안 유사도를 써봅시다.\n",
    "\n",
    "유클리디안 유사도는 이전 시간에 배웠듯이, 아래와 같이 구할 수 있습니다.\n",
    "\n",
    "$$\n",
    "distance(X,Y) = \\sqrt{\\sum(X_i - Y_i)^2} = \\sqrt{\\sum(X_i^2 + Y_i^2 - 2X_iY_i)} = \\sqrt{\\sum X_i^2 + \\sum Y_i^2 - 2 X \\cdot Y} \\\\\n",
    "sim(X,Y) = \\frac{1}{1+distance(X,Y)}\n",
    "$$\n",
    "\n",
    "이번에도 코사인 유사도 때와 같이 sklearn과 벡터 연산을 이용해 풀도록 하겠습니다."
   ]
  },
  {
   "cell_type": "code",
   "execution_count": 14,
   "metadata": {},
   "outputs": [],
   "source": [
    "from sklearn.metrics.pairwise import euclidean_distances\n",
    "\n",
    "# sklearn으로 해결하기"
   ]
  },
  {
   "cell_type": "markdown",
   "metadata": {},
   "source": [
    "----\n",
    "\n",
    "### \\[ Additional \\] Vectorize로 연산하기\n",
    "\n",
    "$$\n",
    "distance(X,Y) = \\sqrt{\\sum(X_i - Y_i)^2} = \\sqrt{\\sum(X_i^2 + Y_i^2 - 2X_iY_i)} = \\sqrt{\\sum X_i^2 + \\sum Y_i^2 - 2 X \\cdot Y} \\\\\n",
    "sim(X,Y) = \\frac{1}{1+distance(X,Y)}\n",
    "$$\n",
    "\n"
   ]
  },
  {
   "cell_type": "markdown",
   "metadata": {
    "nbpresent": {
     "id": "218945ba-6163-4bfc-846f-82664317034e"
    }
   },
   "source": [
    "#### 1. 제곱 값 계산하기  ($\\sum R_i^2$)"
   ]
  },
  {
   "cell_type": "code",
   "execution_count": null,
   "metadata": {
    "nbpresent": {
     "id": "016abbe5-688f-45c8-8e1a-4a748d92836d"
    }
   },
   "outputs": [],
   "source": []
  },
  {
   "cell_type": "markdown",
   "metadata": {
    "nbpresent": {
     "id": "3e952462-f3c5-4d1f-af0e-7534818c0a4e"
    }
   },
   "source": [
    "#### 2. Dot 연산 계산하기"
   ]
  },
  {
   "cell_type": "code",
   "execution_count": null,
   "metadata": {
    "nbpresent": {
     "id": "4284344b-2968-49e0-a105-278eb4bf81fd"
    }
   },
   "outputs": [],
   "source": []
  },
  {
   "cell_type": "markdown",
   "metadata": {
    "nbpresent": {
     "id": "6f9b6aa3-6bb2-481d-90da-e98eef50099c"
    }
   },
   "source": [
    "#### 3. 유클리디안 거리 구하기"
   ]
  },
  {
   "cell_type": "code",
   "execution_count": null,
   "metadata": {},
   "outputs": [],
   "source": []
  },
  {
   "cell_type": "markdown",
   "metadata": {
    "nbpresent": {
     "id": "eb762fde-d793-4969-9a51-015a05401572"
    }
   },
   "source": [
    "#### 4. 유클리디안 유사도 계산하기"
   ]
  },
  {
   "cell_type": "code",
   "execution_count": null,
   "metadata": {
    "nbpresent": {
     "id": "ae00a763-6ee9-4bc2-b9d6-e55bc6f34c29"
    }
   },
   "outputs": [],
   "source": []
  },
  {
   "cell_type": "markdown",
   "metadata": {
    "nbpresent": {
     "id": "b02a1942-02b3-4ee5-8c15-ecf05a3d65ff"
    }
   },
   "source": [
    "#### 5. 유클리디안 유사도 행렬 구성하기"
   ]
  },
  {
   "cell_type": "code",
   "execution_count": null,
   "metadata": {
    "nbpresent": {
     "id": "36b11bf3-b098-4d0c-af06-48d06b488d46"
    }
   },
   "outputs": [],
   "source": [
    "euclidean_similarity_df = "
   ]
  },
  {
   "cell_type": "markdown",
   "metadata": {},
   "source": [
    "----"
   ]
  },
  {
   "cell_type": "markdown",
   "metadata": {
    "nbpresent": {
     "id": "c310c30b-0833-4a66-a07a-2f4dc560fd21"
    }
   },
   "source": [
    "## 2. 유사도 행렬을 통해 유사 제품 추천하기\n",
    "코사인 유사도를 이용한 추천 시스템과 어떤 차이가 있을까요? 코사인 유사도를 사용한 시스템에서는 비슷하면서도 다양한 영화가 추천된 반면, 유클리디안 거리 유사도를 이용한 추천 시스템에서는 각 시리즈의 후속작이 추천되는 결과가 나왔습니다. 시리즈물과 같이 매우 유사한 것을 추천하기 위해서는 유클리디안 거리 유사도가 좀 더 유용하고, 좀 더 다양한 영화를 추천하기 위해서는 코사인 유사도가 더 적합할 것입니다."
   ]
  },
  {
   "cell_type": "markdown",
   "metadata": {
    "nbpresent": {
     "id": "3037c13f-6b66-4ab1-9e5e-463ef0c134f0"
    }
   },
   "source": [
    "#### 토이스토리와 유사한 영화"
   ]
  },
  {
   "cell_type": "code",
   "execution_count": null,
   "metadata": {
    "nbpresent": {
     "id": "0e8eb98a-5e85-4202-9f99-f4bb5f911277"
    }
   },
   "outputs": [],
   "source": [
    "(\n",
    "    euclidean_similarity_df\n",
    "    .loc[\"Toy Story\"]\n",
    "    .sort_values(ascending=False)\n",
    "    .iloc[:5]\n",
    ")"
   ]
  },
  {
   "cell_type": "markdown",
   "metadata": {
    "nbpresent": {
     "id": "55bb7f0d-0b88-406a-8a32-b5bf3f8f2ed9"
    }
   },
   "source": [
    "#### 스타워즈와 유사한 영화"
   ]
  },
  {
   "cell_type": "code",
   "execution_count": null,
   "metadata": {
    "nbpresent": {
     "id": "2a29128e-afa9-454d-bd56-1550d640c4b3"
    }
   },
   "outputs": [],
   "source": [
    "(\n",
    "    euclidean_similarity_df\n",
    "    .loc['Star Wars: Episode IV - A New Hope']\n",
    "    .sort_values(ascending=False)\n",
    "    .iloc[:5]\n",
    ")"
   ]
  },
  {
   "cell_type": "markdown",
   "metadata": {
    "nbpresent": {
     "id": "c1d51495-ad7c-4098-a797-90e18649c007"
    }
   },
   "source": [
    "#### 쏘우와 유사한 영화"
   ]
  },
  {
   "cell_type": "code",
   "execution_count": null,
   "metadata": {
    "nbpresent": {
     "id": "b786531d-e176-40b6-bb27-7cf0bc60080c"
    }
   },
   "outputs": [],
   "source": [
    "(\n",
    "    euclidean_similarity_df\n",
    "    .loc[\"Saw\"]\n",
    "    .sort_values(ascending=False)\n",
    "    .iloc[:5]\n",
    ")"
   ]
  },
  {
   "cell_type": "markdown",
   "metadata": {
    "nbpresent": {
     "id": "69844f86-8b16-4dc7-a48e-6f14ae69bdc1"
    }
   },
   "source": [
    "#### 링와 유사한 영화"
   ]
  },
  {
   "cell_type": "code",
   "execution_count": null,
   "metadata": {
    "nbpresent": {
     "id": "05904436-fc56-45e7-bf46-4210ddefbcf3"
    }
   },
   "outputs": [],
   "source": [
    "(\n",
    "    euclidean_similarity_df\n",
    "    .loc['Ring, The']\n",
    "    .sort_values(ascending=False)\n",
    "    .iloc[:5]\n",
    ")"
   ]
  },
  {
   "cell_type": "markdown",
   "metadata": {},
   "source": [
    "데이터가 어떤 특성을 가지고 있느냐에 따라 적절한 유사도 공식은 달라집니다. <br>\n",
    "그렇기 때문에 우리는 다양한 유사도 공식을 적용해보고 이중에서 \n",
    "추천 시스템에 어울리는 유사도 공식을 골라 사용하게 됩니다."
   ]
  },
  {
   "cell_type": "markdown",
   "metadata": {
    "deletable": false,
    "editable": false,
    "nbpresent": {
     "id": "16648598-3870-43a7-8a81-3154af1a7b77"
    }
   },
   "source": [
    "#  \n",
    "\n",
    "---\n",
    "\n",
    "    Copyright(c) 2019 by Public AI. All rights reserved.\n",
    "    Writen by PAI, SangJae Kang ( rocketgrowthsj@publicai.co.kr )  last updated on 2020/01/13\n",
    "\n",
    "\n",
    "---"
   ]
  }
 ],
 "metadata": {
  "kernelspec": {
   "display_name": "Python 3",
   "language": "python",
   "name": "python3"
  },
  "language_info": {
   "codemirror_mode": {
    "name": "ipython",
    "version": 3
   },
   "file_extension": ".py",
   "mimetype": "text/x-python",
   "name": "python",
   "nbconvert_exporter": "python",
   "pygments_lexer": "ipython3",
   "version": "3.6.6"
  },
  "nbpresent": {
   "slides": {
    "00ee9815-5843-4470-b300-b5ed65e2a11d": {
     "id": "00ee9815-5843-4470-b300-b5ed65e2a11d",
     "prev": "248c0add-dc33-47e3-b14c-f3c5fdd70326",
     "regions": {
      "79532f56-2680-4427-9241-f80bec8d127d": {
       "attrs": {
        "height": 0.8,
        "width": 0.8,
        "x": 0.1,
        "y": 0.1
       },
       "content": {
        "cell": "3e952462-f3c5-4d1f-af0e-7534818c0a4e",
        "part": "whole"
       },
       "id": "79532f56-2680-4427-9241-f80bec8d127d"
      }
     }
    },
    "01038c3d-5a04-4af0-8757-3f6dffe5a39d": {
     "id": "01038c3d-5a04-4af0-8757-3f6dffe5a39d",
     "prev": "0e478305-7c11-4277-9793-ac4c631428f1",
     "regions": {
      "5629b8d4-0127-4883-8d93-8ffea7cff4d7": {
       "attrs": {
        "height": 0.8,
        "width": 0.8,
        "x": 0.1,
        "y": 0.1
       },
       "content": {
        "cell": "0c5b7393-0956-4e11-86d6-b041b0f03c58",
        "part": "whole"
       },
       "id": "5629b8d4-0127-4883-8d93-8ffea7cff4d7"
      }
     }
    },
    "01469abc-3a2f-4b0a-83ad-a3f6389fa7d4": {
     "id": "01469abc-3a2f-4b0a-83ad-a3f6389fa7d4",
     "prev": "ca2e5ac9-cb7b-4fd0-871f-cba1a862db1b",
     "regions": {
      "ad9f3429-2b25-4127-98af-0a095ffb5a52": {
       "attrs": {
        "height": 0.8,
        "width": 0.8,
        "x": 0.1,
        "y": 0.1
       },
       "content": {
        "cell": "efe3563d-c5ad-4845-bb68-463a4c7adb65",
        "part": "whole"
       },
       "id": "ad9f3429-2b25-4127-98af-0a095ffb5a52"
      }
     }
    },
    "037a89a3-4cc6-4d9c-81cd-1aa668f4944d": {
     "id": "037a89a3-4cc6-4d9c-81cd-1aa668f4944d",
     "prev": "0e9bd05e-51a3-403a-8f4d-1c320caa2d72",
     "regions": {
      "2b8bc3b2-5021-4c39-a143-5243291499da": {
       "attrs": {
        "height": 0.8,
        "width": 0.8,
        "x": 0.1,
        "y": 0.1
       },
       "content": {
        "cell": "1ab553df-5c0d-46ba-9183-3a7725ca493f",
        "part": "whole"
       },
       "id": "2b8bc3b2-5021-4c39-a143-5243291499da"
      }
     }
    },
    "0550d458-348d-4f45-8198-6aa245d537f5": {
     "id": "0550d458-348d-4f45-8198-6aa245d537f5",
     "prev": "46946af1-9894-4a32-a624-c475056e3dd9",
     "regions": {
      "e56f7fcc-ce3e-41c5-90e4-4bb3f04059ad": {
       "attrs": {
        "height": 0.8,
        "width": 0.8,
        "x": 0.1,
        "y": 0.1
       },
       "content": {
        "cell": "51b1dc79-1f64-4f72-90d4-d5e6355ce935",
        "part": "whole"
       },
       "id": "e56f7fcc-ce3e-41c5-90e4-4bb3f04059ad"
      }
     }
    },
    "0606890e-36e3-4dde-8317-3a3db46c523c": {
     "id": "0606890e-36e3-4dde-8317-3a3db46c523c",
     "prev": "d3110147-3441-4931-831f-0d5054777812",
     "regions": {
      "67a122ef-cfc8-494a-a511-4a03af1916be": {
       "attrs": {
        "height": 0.8,
        "width": 0.8,
        "x": 0.1,
        "y": 0.1
       },
       "content": {
        "cell": "650a8ac4-2746-473d-9de4-801baf32d4d4",
        "part": "whole"
       },
       "id": "67a122ef-cfc8-494a-a511-4a03af1916be"
      }
     }
    },
    "062860d5-a977-4e98-90cb-fe9a58ed0220": {
     "id": "062860d5-a977-4e98-90cb-fe9a58ed0220",
     "prev": "95a9b372-b56b-41c1-ad52-9a01d59cd0de",
     "regions": {
      "3ca35d6b-dd8f-463b-a1ac-ebe5b5d58e73": {
       "attrs": {
        "height": 0.8,
        "width": 0.8,
        "x": 0.1,
        "y": 0.1
       },
       "content": {
        "cell": "92871359-7980-4528-b06e-96e4ac17e098",
        "part": "whole"
       },
       "id": "3ca35d6b-dd8f-463b-a1ac-ebe5b5d58e73"
      }
     }
    },
    "081d77cc-afff-4874-8059-867fce9121de": {
     "id": "081d77cc-afff-4874-8059-867fce9121de",
     "prev": "991fbc19-9c40-4d36-931a-2515cb8ff16a",
     "regions": {
      "2aff150d-cf42-49ee-bd1c-ed9273144159": {
       "attrs": {
        "height": 0.8,
        "width": 0.8,
        "x": 0.1,
        "y": 0.1
       },
       "content": {
        "cell": "b786531d-e176-40b6-bb27-7cf0bc60080c",
        "part": "whole"
       },
       "id": "2aff150d-cf42-49ee-bd1c-ed9273144159"
      }
     }
    },
    "085958a5-acd4-482a-a690-8b61f39e8ddd": {
     "id": "085958a5-acd4-482a-a690-8b61f39e8ddd",
     "prev": "783300d8-07e0-463f-8830-a52929a74995",
     "regions": {
      "dff6cde7-c911-44b7-a320-5a1a3cf8fc15": {
       "attrs": {
        "height": 0.8,
        "width": 0.8,
        "x": 0.1,
        "y": 0.1
       },
       "content": {
        "cell": "fdca3073-9a4b-4fe3-8154-cdcebc9c9c8f",
        "part": "whole"
       },
       "id": "dff6cde7-c911-44b7-a320-5a1a3cf8fc15"
      }
     }
    },
    "09feab71-19a4-49b0-b889-9ba042fe21a8": {
     "id": "09feab71-19a4-49b0-b889-9ba042fe21a8",
     "prev": "a7a6dd77-f471-457f-925a-f4279b92a6b0",
     "regions": {
      "d124604e-d451-4ef2-9e6f-674bb065eee1": {
       "attrs": {
        "height": 0.8,
        "width": 0.8,
        "x": 0.1,
        "y": 0.1
       },
       "content": {
        "cell": "0e8eb98a-5e85-4202-9f99-f4bb5f911277",
        "part": "whole"
       },
       "id": "d124604e-d451-4ef2-9e6f-674bb065eee1"
      }
     }
    },
    "0d98e3d1-dd6b-4404-9c18-48d242c36614": {
     "id": "0d98e3d1-dd6b-4404-9c18-48d242c36614",
     "prev": "9eb111a3-1977-4798-a8a7-d143794e448c",
     "regions": {
      "8b758449-c474-4a8c-b7a1-a3bc7cee472f": {
       "attrs": {
        "height": 0.8,
        "width": 0.8,
        "x": 0.1,
        "y": 0.1
       },
       "content": {
        "cell": "6935bb9a-c534-46d2-9c9b-b82164a743bf",
        "part": "whole"
       },
       "id": "8b758449-c474-4a8c-b7a1-a3bc7cee472f"
      }
     }
    },
    "0db704ec-ffae-4937-94b2-863f4fdedf00": {
     "id": "0db704ec-ffae-4937-94b2-863f4fdedf00",
     "prev": "597d5db6-2552-486e-8e03-b83e12e1e097",
     "regions": {
      "0c0fa1a7-5215-400e-b59a-ee80b3b3b386": {
       "attrs": {
        "height": 0.8,
        "width": 0.8,
        "x": 0.1,
        "y": 0.1
       },
       "content": {
        "cell": "402be7f9-839c-4d4d-86a0-8092264b7389",
        "part": "whole"
       },
       "id": "0c0fa1a7-5215-400e-b59a-ee80b3b3b386"
      }
     }
    },
    "0e478305-7c11-4277-9793-ac4c631428f1": {
     "id": "0e478305-7c11-4277-9793-ac4c631428f1",
     "prev": "d9c22ce6-a589-43c6-b035-54cac17f63ce",
     "regions": {
      "f7c964be-6037-4d56-bab7-7bb4f16f8806": {
       "attrs": {
        "height": 0.8,
        "width": 0.8,
        "x": 0.1,
        "y": 0.1
       },
       "content": {
        "cell": "72a55d49-75a8-4274-ace9-452b4e227cdd",
        "part": "whole"
       },
       "id": "f7c964be-6037-4d56-bab7-7bb4f16f8806"
      }
     }
    },
    "0e9bd05e-51a3-403a-8f4d-1c320caa2d72": {
     "id": "0e9bd05e-51a3-403a-8f4d-1c320caa2d72",
     "prev": "062860d5-a977-4e98-90cb-fe9a58ed0220",
     "regions": {
      "65905f9a-e3bf-4db1-90c9-6ce6782b351c": {
       "attrs": {
        "height": 0.8,
        "width": 0.8,
        "x": 0.1,
        "y": 0.1
       },
       "content": {
        "cell": "75124267-f5b2-4c41-b556-46bb045e6463",
        "part": "whole"
       },
       "id": "65905f9a-e3bf-4db1-90c9-6ce6782b351c"
      }
     }
    },
    "0f68670f-9513-4baa-83a6-d4eafde26520": {
     "id": "0f68670f-9513-4baa-83a6-d4eafde26520",
     "prev": "de44310f-7a01-41c7-939c-ef2b7d3ebdd8",
     "regions": {
      "2d98b652-0e3c-479b-82c9-018853ac7731": {
       "attrs": {
        "height": 0.8,
        "width": 0.8,
        "x": 0.1,
        "y": 0.1
       },
       "content": {
        "cell": "9238e6c5-7efa-467a-aa21-2adf3688e19d",
        "part": "whole"
       },
       "id": "2d98b652-0e3c-479b-82c9-018853ac7731"
      }
     }
    },
    "1b92bdc2-9d44-490c-9375-d1face5fc766": {
     "id": "1b92bdc2-9d44-490c-9375-d1face5fc766",
     "prev": "4a583021-91d5-4cc7-b20a-f73c92119fa4",
     "regions": {
      "7a6f70b3-8f5c-4769-9233-8bb40b2f4bf5": {
       "attrs": {
        "height": 0.8,
        "width": 0.8,
        "x": 0.1,
        "y": 0.1
       },
       "content": {
        "cell": "0d73ea04-201f-4e9f-a5da-356e011bff04",
        "part": "whole"
       },
       "id": "7a6f70b3-8f5c-4769-9233-8bb40b2f4bf5"
      }
     }
    },
    "1d795fb8-ae66-4341-b212-2c675e2bf6ae": {
     "id": "1d795fb8-ae66-4341-b212-2c675e2bf6ae",
     "prev": "912355ff-f072-4721-b70e-21404e947b79",
     "regions": {
      "4faab1ca-c97b-4e0f-8683-66ac80518e99": {
       "attrs": {
        "height": 0.8,
        "width": 0.8,
        "x": 0.1,
        "y": 0.1
       },
       "content": {
        "cell": "e9f07492-5b71-4cc1-ba9c-58f22a3fcb3b",
        "part": "whole"
       },
       "id": "4faab1ca-c97b-4e0f-8683-66ac80518e99"
      }
     }
    },
    "1e46c6e1-72bd-4298-bb4d-e070fef32008": {
     "id": "1e46c6e1-72bd-4298-bb4d-e070fef32008",
     "prev": "ac90e487-c18f-4c5e-b164-b65bd0ede4af",
     "regions": {
      "f7d01544-ba82-498c-8abc-7ba992a9235f": {
       "attrs": {
        "height": 0.8,
        "width": 0.8,
        "x": 0.1,
        "y": 0.1
       },
       "content": {
        "cell": "46b9c11f-2760-4bef-9af1-57e52c839acc",
        "part": "whole"
       },
       "id": "f7d01544-ba82-498c-8abc-7ba992a9235f"
      }
     }
    },
    "1ef5fcfb-c9bc-491f-93e4-3773f57f4ba8": {
     "id": "1ef5fcfb-c9bc-491f-93e4-3773f57f4ba8",
     "prev": "d3596fe7-a669-41a8-a1ec-f2cbb8603cff",
     "regions": {
      "e2f70178-dbad-42cd-a01b-c16549b234f6": {
       "attrs": {
        "height": 0.8,
        "width": 0.8,
        "x": 0.1,
        "y": 0.1
       },
       "content": {
        "cell": "34253986-1095-42b3-856b-c794d2abf34b",
        "part": "whole"
       },
       "id": "e2f70178-dbad-42cd-a01b-c16549b234f6"
      }
     }
    },
    "248c0add-dc33-47e3-b14c-f3c5fdd70326": {
     "id": "248c0add-dc33-47e3-b14c-f3c5fdd70326",
     "prev": "bbf0d44d-fc6c-46bb-a1f4-090dca0c5607",
     "regions": {
      "c89c5757-f4f2-4875-bcbf-91f390cd5202": {
       "attrs": {
        "height": 0.8,
        "width": 0.8,
        "x": 0.1,
        "y": 0.1
       },
       "content": {
        "cell": "016abbe5-688f-45c8-8e1a-4a748d92836d",
        "part": "whole"
       },
       "id": "c89c5757-f4f2-4875-bcbf-91f390cd5202"
      }
     }
    },
    "27dc4754-be77-4108-b96b-6ae039ca0af2": {
     "id": "27dc4754-be77-4108-b96b-6ae039ca0af2",
     "prev": "29c495ac-c490-4672-9c5c-d4ea28ecfcef",
     "regions": {
      "13243eed-ee00-493c-9a8a-30a674f23719": {
       "attrs": {
        "height": 0.8,
        "width": 0.8,
        "x": 0.1,
        "y": 0.1
       },
       "content": {
        "cell": "92f086bb-a4e5-4a99-b667-cdf12b26b15b",
        "part": "whole"
       },
       "id": "13243eed-ee00-493c-9a8a-30a674f23719"
      }
     }
    },
    "29c495ac-c490-4672-9c5c-d4ea28ecfcef": {
     "id": "29c495ac-c490-4672-9c5c-d4ea28ecfcef",
     "prev": "38f92145-f65b-47ed-b04a-b1b119a3a214",
     "regions": {
      "68186fa5-3efd-4ce7-8402-572b21c51960": {
       "attrs": {
        "height": 0.8,
        "width": 0.8,
        "x": 0.1,
        "y": 0.1
       },
       "content": {
        "cell": "f52f9df7-d3bc-485f-adce-ab323bc6ab8f",
        "part": "whole"
       },
       "id": "68186fa5-3efd-4ce7-8402-572b21c51960"
      }
     }
    },
    "2b7046c5-f565-4429-b119-34a026b387e8": {
     "id": "2b7046c5-f565-4429-b119-34a026b387e8",
     "prev": "0f68670f-9513-4baa-83a6-d4eafde26520",
     "regions": {
      "81b22415-9b1c-49b7-a234-6bfd432a81b8": {
       "attrs": {
        "height": 0.8,
        "width": 0.8,
        "x": 0.1,
        "y": 0.1
       },
       "content": {
        "cell": "9e520742-c4fa-40db-8725-316cff3e5205",
        "part": "whole"
       },
       "id": "81b22415-9b1c-49b7-a234-6bfd432a81b8"
      }
     }
    },
    "2cec227b-ed6d-489d-b00a-06c675050aa8": {
     "id": "2cec227b-ed6d-489d-b00a-06c675050aa8",
     "prev": "4c347120-ebd5-4672-88d3-c06f90738391",
     "regions": {
      "13960c47-efee-478c-81f1-75bdf0283ce7": {
       "attrs": {
        "height": 0.8,
        "width": 0.8,
        "x": 0.1,
        "y": 0.1
       },
       "content": {
        "cell": "19b53dd1-983a-4175-8adc-8737a9b5db33",
        "part": "whole"
       },
       "id": "13960c47-efee-478c-81f1-75bdf0283ce7"
      }
     }
    },
    "2ed89b82-55d6-4501-b218-bd9043a33386": {
     "id": "2ed89b82-55d6-4501-b218-bd9043a33386",
     "prev": "74d8ecac-7b79-444c-9ea9-74a0c13f5568",
     "regions": {
      "710d2dba-3e73-4f3e-bdf1-28babb38d19e": {
       "attrs": {
        "height": 0.8,
        "width": 0.8,
        "x": 0.1,
        "y": 0.1
       },
       "content": {
        "cell": "c4aabccb-a24d-4d1a-b9f5-8e0ba3236161",
        "part": "whole"
       },
       "id": "710d2dba-3e73-4f3e-bdf1-28babb38d19e"
      }
     }
    },
    "31800c70-e3e9-475e-a0a0-3a0b9747c8ac": {
     "id": "31800c70-e3e9-475e-a0a0-3a0b9747c8ac",
     "prev": "930ff7eb-c375-4d01-ae20-370210969d74",
     "regions": {
      "51893d7b-ddbc-40f4-aff9-a834eece77b8": {
       "attrs": {
        "height": 0.8,
        "width": 0.8,
        "x": 0.1,
        "y": 0.1
       },
       "content": {
        "cell": "6e22e844-4f76-4746-a621-d14c30ef6da1",
        "part": "whole"
       },
       "id": "51893d7b-ddbc-40f4-aff9-a834eece77b8"
      }
     }
    },
    "3225547b-8bfe-4a0d-8086-c4d6baeef616": {
     "id": "3225547b-8bfe-4a0d-8086-c4d6baeef616",
     "prev": "914f710e-1567-4004-a3e4-47c2d76b8dbf",
     "regions": {
      "28e5c414-43f0-471d-912e-bd0765a73f73": {
       "attrs": {
        "height": 0.8,
        "width": 0.8,
        "x": 0.1,
        "y": 0.1
       },
       "content": {
        "cell": "c310c30b-0833-4a66-a07a-2f4dc560fd21",
        "part": "whole"
       },
       "id": "28e5c414-43f0-471d-912e-bd0765a73f73"
      }
     }
    },
    "38f92145-f65b-47ed-b04a-b1b119a3a214": {
     "id": "38f92145-f65b-47ed-b04a-b1b119a3a214",
     "prev": "6971b1c4-bed1-4cfa-b9b2-57d13c954b61",
     "regions": {
      "202b1de9-8d8a-4f82-a41e-9733ab179552": {
       "attrs": {
        "height": 0.8,
        "width": 0.8,
        "x": 0.1,
        "y": 0.1
       },
       "content": {
        "cell": "359021d8-c5be-4863-970f-bb559829f9a3",
        "part": "whole"
       },
       "id": "202b1de9-8d8a-4f82-a41e-9733ab179552"
      }
     }
    },
    "3cf49e71-ff57-4e3f-89e8-a8165f2d1c35": {
     "id": "3cf49e71-ff57-4e3f-89e8-a8165f2d1c35",
     "prev": "00ee9815-5843-4470-b300-b5ed65e2a11d",
     "regions": {
      "833f661a-638a-49eb-9931-282e6d180962": {
       "attrs": {
        "height": 0.8,
        "width": 0.8,
        "x": 0.1,
        "y": 0.1
       },
       "content": {
        "cell": "4284344b-2968-49e0-a105-278eb4bf81fd",
        "part": "whole"
       },
       "id": "833f661a-638a-49eb-9931-282e6d180962"
      }
     }
    },
    "408c390f-c39f-4c97-a48d-be0459ecbc3e": {
     "id": "408c390f-c39f-4c97-a48d-be0459ecbc3e",
     "prev": "0550d458-348d-4f45-8198-6aa245d537f5",
     "regions": {
      "ac231463-96ce-401f-b60a-45dc33cdfd5c": {
       "attrs": {
        "height": 0.8,
        "width": 0.8,
        "x": 0.1,
        "y": 0.1
       },
       "content": {
        "cell": "c789d275-f899-4aba-8872-715bcbe82fe3",
        "part": "whole"
       },
       "id": "ac231463-96ce-401f-b60a-45dc33cdfd5c"
      }
     }
    },
    "41570558-db82-4a79-acd6-10e1d5857cfa": {
     "id": "41570558-db82-4a79-acd6-10e1d5857cfa",
     "prev": "081d77cc-afff-4874-8059-867fce9121de",
     "regions": {
      "ae654f11-bf5f-4c56-be49-ddb50850ebf7": {
       "attrs": {
        "height": 0.8,
        "width": 0.8,
        "x": 0.1,
        "y": 0.1
       },
       "content": {
        "cell": "69844f86-8b16-4dc7-a48e-6f14ae69bdc1",
        "part": "whole"
       },
       "id": "ae654f11-bf5f-4c56-be49-ddb50850ebf7"
      }
     }
    },
    "41a8943f-b833-4de6-b4d8-24cea5a60ab8": {
     "id": "41a8943f-b833-4de6-b4d8-24cea5a60ab8",
     "prev": "1d795fb8-ae66-4341-b212-2c675e2bf6ae",
     "regions": {
      "d9559f43-57f5-4ffe-880a-495ed496424c": {
       "attrs": {
        "height": 0.8,
        "width": 0.8,
        "x": 0.1,
        "y": 0.1
       },
       "content": {
        "cell": "37bfa91d-d858-4c63-86d3-008f24e76f10",
        "part": "whole"
       },
       "id": "d9559f43-57f5-4ffe-880a-495ed496424c"
      }
     }
    },
    "46946af1-9894-4a32-a624-c475056e3dd9": {
     "id": "46946af1-9894-4a32-a624-c475056e3dd9",
     "prev": "d02a79c6-bead-41f9-8651-505451346ec8",
     "regions": {
      "f83b3894-75c9-40c3-ae42-1446c7cc9356": {
       "attrs": {
        "height": 0.8,
        "width": 0.8,
        "x": 0.1,
        "y": 0.1
       },
       "content": {
        "cell": "15ef98e3-ec51-487a-9b61-eca8b06ceacb",
        "part": "whole"
       },
       "id": "f83b3894-75c9-40c3-ae42-1446c7cc9356"
      }
     }
    },
    "4a583021-91d5-4cc7-b20a-f73c92119fa4": {
     "id": "4a583021-91d5-4cc7-b20a-f73c92119fa4",
     "prev": "68733caa-92c1-437a-8359-ae8577f87931",
     "regions": {
      "6c328428-168d-4aa4-ab42-73d0e7997ce9": {
       "attrs": {
        "height": 0.8,
        "width": 0.8,
        "x": 0.1,
        "y": 0.1
       },
       "content": {
        "cell": "4f26d9ee-857d-48cc-9aed-551c5585f8bb",
        "part": "whole"
       },
       "id": "6c328428-168d-4aa4-ab42-73d0e7997ce9"
      }
     }
    },
    "4be5608c-3247-4a6a-ae2f-bed7db727646": {
     "id": "4be5608c-3247-4a6a-ae2f-bed7db727646",
     "prev": "27dc4754-be77-4108-b96b-6ae039ca0af2",
     "regions": {
      "145bf815-76a6-4744-9ff4-cbb1663cfb86": {
       "attrs": {
        "height": 0.8,
        "width": 0.8,
        "x": 0.1,
        "y": 0.1
       },
       "content": {
        "cell": "cdde12f0-36cf-4c4c-a858-b3f2f82d69d5",
        "part": "whole"
       },
       "id": "145bf815-76a6-4744-9ff4-cbb1663cfb86"
      }
     }
    },
    "4c347120-ebd5-4672-88d3-c06f90738391": {
     "id": "4c347120-ebd5-4672-88d3-c06f90738391",
     "prev": "865378a9-f892-4668-b8ce-ed17a6b44ba4",
     "regions": {
      "20601529-0718-4e83-86bc-2a4a63f9558e": {
       "attrs": {
        "height": 0.8,
        "width": 0.8,
        "x": 0.1,
        "y": 0.1
       },
       "content": {
        "cell": "560c5e9d-9b7e-42d0-9dee-0cafb22d6479",
        "part": "whole"
       },
       "id": "20601529-0718-4e83-86bc-2a4a63f9558e"
      }
     }
    },
    "4f4ae4c4-2770-4d6a-a0d8-b72edab60a2b": {
     "id": "4f4ae4c4-2770-4d6a-a0d8-b72edab60a2b",
     "prev": "0606890e-36e3-4dde-8317-3a3db46c523c",
     "regions": {
      "926f351c-3769-4696-81e0-93c9fd28d0be": {
       "attrs": {
        "height": 0.8,
        "width": 0.8,
        "x": 0.1,
        "y": 0.1
       },
       "content": {
        "cell": "dda1c49b-148f-4f02-83f7-b514ef30a1f1",
        "part": "whole"
       },
       "id": "926f351c-3769-4696-81e0-93c9fd28d0be"
      }
     }
    },
    "59709db9-6c90-4093-b2cb-78583da966ec": {
     "id": "59709db9-6c90-4093-b2cb-78583da966ec",
     "prev": "67c3fc24-ee6d-4008-86ba-5e06915754dc",
     "regions": {
      "475769b1-2136-4b23-833e-04e1b934cf0e": {
       "attrs": {
        "height": 0.8,
        "width": 0.8,
        "x": 0.1,
        "y": 0.1
       },
       "content": {
        "cell": "2a29128e-afa9-454d-bd56-1550d640c4b3",
        "part": "whole"
       },
       "id": "475769b1-2136-4b23-833e-04e1b934cf0e"
      }
     }
    },
    "597d5db6-2552-486e-8e03-b83e12e1e097": {
     "id": "597d5db6-2552-486e-8e03-b83e12e1e097",
     "prev": "aaad1800-de5e-4294-ab0d-cf74cc79c7e5",
     "regions": {
      "3f5593e2-0f9f-4fa1-82a4-a7390e484ff4": {
       "attrs": {
        "height": 0.8,
        "width": 0.8,
        "x": 0.1,
        "y": 0.1
       },
       "content": {
        "cell": "92615425-a958-46bb-adc1-682e97cce4ca",
        "part": "whole"
       },
       "id": "3f5593e2-0f9f-4fa1-82a4-a7390e484ff4"
      }
     }
    },
    "5a50813f-2174-4f52-abf3-787fb5345dd8": {
     "id": "5a50813f-2174-4f52-abf3-787fb5345dd8",
     "prev": "629bab76-f33a-4019-8ede-cc02253496bb",
     "regions": {
      "7dfd191f-02a5-484e-abf2-97e9e0de76c0": {
       "attrs": {
        "height": 0.8,
        "width": 0.8,
        "x": 0.1,
        "y": 0.1
       },
       "content": {
        "cell": "5c8f8e12-e6f7-411c-85d2-529aa51cbcd4",
        "part": "whole"
       },
       "id": "7dfd191f-02a5-484e-abf2-97e9e0de76c0"
      }
     }
    },
    "5d740297-655b-41bf-b817-b4fa35882d08": {
     "id": "5d740297-655b-41bf-b817-b4fa35882d08",
     "prev": "085958a5-acd4-482a-a690-8b61f39e8ddd",
     "regions": {
      "6933ae3c-f9a4-4173-ad9b-3eb2a9d7ff8e": {
       "attrs": {
        "height": 0.8,
        "width": 0.8,
        "x": 0.1,
        "y": 0.1
       },
       "content": {
        "cell": "eb762fde-d793-4969-9a51-015a05401572",
        "part": "whole"
       },
       "id": "6933ae3c-f9a4-4173-ad9b-3eb2a9d7ff8e"
      }
     }
    },
    "60dcbbcf-8f8f-463f-8425-9dad36624a69": {
     "id": "60dcbbcf-8f8f-463f-8425-9dad36624a69",
     "prev": "b2ded831-94b6-4e8e-8ce9-4d9e0505cde2",
     "regions": {
      "a466bfe2-cbfb-4373-b019-310b44e0ac5b": {
       "attrs": {
        "height": 0.8,
        "width": 0.8,
        "x": 0.1,
        "y": 0.1
       },
       "content": {
        "cell": "29b53d7d-17a3-4f8f-97a6-fb627b4fc0cd",
        "part": "whole"
       },
       "id": "a466bfe2-cbfb-4373-b019-310b44e0ac5b"
      }
     }
    },
    "629bab76-f33a-4019-8ede-cc02253496bb": {
     "id": "629bab76-f33a-4019-8ede-cc02253496bb",
     "prev": "01469abc-3a2f-4b0a-83ad-a3f6389fa7d4",
     "regions": {
      "c787c1e4-7712-40e3-a983-3dbf68f12855": {
       "attrs": {
        "height": 0.8,
        "width": 0.8,
        "x": 0.1,
        "y": 0.1
       },
       "content": {
        "cell": "a9d916b7-3a1f-4b7a-a68d-5463add2e48b",
        "part": "whole"
       },
       "id": "c787c1e4-7712-40e3-a983-3dbf68f12855"
      }
     }
    },
    "67c3fc24-ee6d-4008-86ba-5e06915754dc": {
     "id": "67c3fc24-ee6d-4008-86ba-5e06915754dc",
     "prev": "09feab71-19a4-49b0-b889-9ba042fe21a8",
     "regions": {
      "c5735ca8-0533-4468-8da4-8579163a715e": {
       "attrs": {
        "height": 0.8,
        "width": 0.8,
        "x": 0.1,
        "y": 0.1
       },
       "content": {
        "cell": "55bb7f0d-0b88-406a-8a32-b5bf3f8f2ed9",
        "part": "whole"
       },
       "id": "c5735ca8-0533-4468-8da4-8579163a715e"
      }
     }
    },
    "68733caa-92c1-437a-8359-ae8577f87931": {
     "id": "68733caa-92c1-437a-8359-ae8577f87931",
     "prev": "31800c70-e3e9-475e-a0a0-3a0b9747c8ac",
     "regions": {
      "24a5b067-bcbc-48c8-a21b-4614ca511a37": {
       "attrs": {
        "height": 0.8,
        "width": 0.8,
        "x": 0.1,
        "y": 0.1
       },
       "content": {
        "cell": "8dd5bc71-e3bf-425a-832f-7764eec3e201",
        "part": "whole"
       },
       "id": "24a5b067-bcbc-48c8-a21b-4614ca511a37"
      }
     }
    },
    "6971b1c4-bed1-4cfa-b9b2-57d13c954b61": {
     "id": "6971b1c4-bed1-4cfa-b9b2-57d13c954b61",
     "prev": "4f4ae4c4-2770-4d6a-a0d8-b72edab60a2b",
     "regions": {
      "3ad6e183-2826-4439-ba6b-61b6ae18994d": {
       "attrs": {
        "height": 0.8,
        "width": 0.8,
        "x": 0.1,
        "y": 0.1
       },
       "content": {
        "cell": "f8ecd7a1-b0bc-4f54-8fb6-b703506968fe",
        "part": "whole"
       },
       "id": "3ad6e183-2826-4439-ba6b-61b6ae18994d"
      }
     }
    },
    "6d201fa1-703e-41ca-a98f-ae45287692e4": {
     "id": "6d201fa1-703e-41ca-a98f-ae45287692e4",
     "prev": "f46528a9-2056-4c2a-a4c0-720b41db1430",
     "regions": {
      "5cec5afd-aeef-48b6-91bb-fd22fa2e3e91": {
       "attrs": {
        "height": 0.8,
        "width": 0.8,
        "x": 0.1,
        "y": 0.1
       },
       "content": {
        "cell": "766b0735-4653-4db2-a794-f9c160752fc9",
        "part": "whole"
       },
       "id": "5cec5afd-aeef-48b6-91bb-fd22fa2e3e91"
      }
     }
    },
    "74b7c84b-e3d3-474c-ac59-dd7f638dd17f": {
     "id": "74b7c84b-e3d3-474c-ac59-dd7f638dd17f",
     "prev": "2b7046c5-f565-4429-b119-34a026b387e8",
     "regions": {
      "657dc190-29d8-48d3-950d-9bee64ee2378": {
       "attrs": {
        "height": 0.8,
        "width": 0.8,
        "x": 0.1,
        "y": 0.1
       },
       "content": {
        "cell": "662a2291-7edd-4863-8c0c-7aa2f4662e0c",
        "part": "whole"
       },
       "id": "657dc190-29d8-48d3-950d-9bee64ee2378"
      }
     }
    },
    "74d8ecac-7b79-444c-9ea9-74a0c13f5568": {
     "id": "74d8ecac-7b79-444c-9ea9-74a0c13f5568",
     "prev": "6d201fa1-703e-41ca-a98f-ae45287692e4",
     "regions": {
      "d5113b5e-eb4e-454a-b7f6-13705aec430e": {
       "attrs": {
        "height": 0.8,
        "width": 0.8,
        "x": 0.1,
        "y": 0.1
       },
       "content": {
        "cell": "7af7d300-3ee8-412a-9e53-fed916a9e574",
        "part": "whole"
       },
       "id": "d5113b5e-eb4e-454a-b7f6-13705aec430e"
      }
     }
    },
    "783300d8-07e0-463f-8830-a52929a74995": {
     "id": "783300d8-07e0-463f-8830-a52929a74995",
     "prev": "3cf49e71-ff57-4e3f-89e8-a8165f2d1c35",
     "regions": {
      "13ac6b15-6a8b-4c31-ae27-14e129ac9bbd": {
       "attrs": {
        "height": 0.8,
        "width": 0.8,
        "x": 0.1,
        "y": 0.1
       },
       "content": {
        "cell": "6f9b6aa3-6bb2-481d-90da-e98eef50099c",
        "part": "whole"
       },
       "id": "13ac6b15-6a8b-4c31-ae27-14e129ac9bbd"
      }
     }
    },
    "7ae637ae-1bb2-4166-b38c-838b3426a738": {
     "id": "7ae637ae-1bb2-4166-b38c-838b3426a738",
     "prev": "b1bbedc9-0c4b-41cd-a5c4-0c4e988129b2",
     "regions": {
      "b7142b5d-0f15-46be-928b-1d455bd367b4": {
       "attrs": {
        "height": 0.8,
        "width": 0.8,
        "x": 0.1,
        "y": 0.1
       },
       "content": {
        "cell": "16648598-3870-43a7-8a81-3154af1a7b77",
        "part": "whole"
       },
       "id": "b7142b5d-0f15-46be-928b-1d455bd367b4"
      }
     }
    },
    "7cceb738-5c42-45b5-baa1-204461a4e60e": {
     "id": "7cceb738-5c42-45b5-baa1-204461a4e60e",
     "prev": "0d98e3d1-dd6b-4404-9c18-48d242c36614",
     "regions": {
      "a1339320-4bff-4cdf-9e10-6294271a8d6f": {
       "attrs": {
        "height": 0.8,
        "width": 0.8,
        "x": 0.1,
        "y": 0.1
       },
       "content": {
        "cell": "62e4375d-6c15-4f9c-908b-0ea6c6c99406",
        "part": "whole"
       },
       "id": "a1339320-4bff-4cdf-9e10-6294271a8d6f"
      }
     }
    },
    "83b3212e-9014-41c2-b40b-16d7691e6e9a": {
     "id": "83b3212e-9014-41c2-b40b-16d7691e6e9a",
     "prev": "2ed89b82-55d6-4501-b218-bd9043a33386",
     "regions": {
      "1058f34b-2d16-4494-bc07-02225b4893f3": {
       "attrs": {
        "height": 0.8,
        "width": 0.8,
        "x": 0.1,
        "y": 0.1
       },
       "content": {
        "cell": "c69bc125-4c31-4043-9308-d5fad11d9b1d",
        "part": "whole"
       },
       "id": "1058f34b-2d16-4494-bc07-02225b4893f3"
      }
     }
    },
    "83bb9645-c8a1-4a58-b8f7-c36f7e7ef8a8": {
     "id": "83bb9645-c8a1-4a58-b8f7-c36f7e7ef8a8",
     "prev": "aa01f19d-85f1-442f-abfe-750e7f9e9abb",
     "regions": {
      "1a676924-e895-4bae-90a4-02832c3ec977": {
       "attrs": {
        "height": 0.8,
        "width": 0.8,
        "x": 0.1,
        "y": 0.1
       },
       "content": {
        "cell": "3cfea54e-0c97-4145-b2ff-1fbd08e7a764",
        "part": "whole"
       },
       "id": "1a676924-e895-4bae-90a4-02832c3ec977"
      }
     }
    },
    "865378a9-f892-4668-b8ce-ed17a6b44ba4": {
     "id": "865378a9-f892-4668-b8ce-ed17a6b44ba4",
     "prev": "41a8943f-b833-4de6-b4d8-24cea5a60ab8",
     "regions": {
      "ad48c282-7fe3-4406-b9e1-53302ec3f3c2": {
       "attrs": {
        "height": 0.8,
        "width": 0.8,
        "x": 0.1,
        "y": 0.1
       },
       "content": {
        "cell": "830138b5-092a-495f-962f-f2a406620552",
        "part": "whole"
       },
       "id": "ad48c282-7fe3-4406-b9e1-53302ec3f3c2"
      }
     }
    },
    "89683937-c422-44aa-a02d-298e119a1fe4": {
     "id": "89683937-c422-44aa-a02d-298e119a1fe4",
     "prev": null,
     "regions": {
      "f958b7ac-f8d9-4397-acf5-6c0615fca05a": {
       "attrs": {
        "height": 0.8,
        "width": 0.8,
        "x": 0.1,
        "y": 0.1
       },
       "content": {
        "cell": "d664152a-b8bc-40ad-85a1-c8afd010cd57",
        "part": "whole"
       },
       "id": "f958b7ac-f8d9-4397-acf5-6c0615fca05a"
      }
     }
    },
    "8c016860-d606-40b2-8b9b-a9a32113af9d": {
     "id": "8c016860-d606-40b2-8b9b-a9a32113af9d",
     "prev": "74b7c84b-e3d3-474c-ac59-dd7f638dd17f",
     "regions": {
      "344e18f9-0796-474b-a0cd-70d00c8ca7f5": {
       "attrs": {
        "height": 0.8,
        "width": 0.8,
        "x": 0.1,
        "y": 0.1
       },
       "content": {
        "cell": "948e67d4-cba7-428e-bdd4-bba23c4da69b",
        "part": "whole"
       },
       "id": "344e18f9-0796-474b-a0cd-70d00c8ca7f5"
      }
     }
    },
    "8d80fdba-b665-42f4-a9b4-5c1d7844889b": {
     "id": "8d80fdba-b665-42f4-a9b4-5c1d7844889b",
     "prev": "8c016860-d606-40b2-8b9b-a9a32113af9d",
     "regions": {
      "74e75cc8-1047-495e-822e-5d20d0360a9e": {
       "attrs": {
        "height": 0.8,
        "width": 0.8,
        "x": 0.1,
        "y": 0.1
       },
       "content": {
        "cell": "ca42682f-cf82-4400-98be-5608c8909236",
        "part": "whole"
       },
       "id": "74e75cc8-1047-495e-822e-5d20d0360a9e"
      }
     }
    },
    "90a1b873-0cae-4769-b46c-d2de4536c909": {
     "id": "90a1b873-0cae-4769-b46c-d2de4536c909",
     "prev": "01038c3d-5a04-4af0-8757-3f6dffe5a39d",
     "regions": {
      "228c79e3-f084-4c36-8d7e-a1371f0550c7": {
       "attrs": {
        "height": 0.8,
        "width": 0.8,
        "x": 0.1,
        "y": 0.1
       },
       "content": {
        "cell": "99ad929d-4d45-4746-87f2-bea6cf1fe6a9",
        "part": "whole"
       },
       "id": "228c79e3-f084-4c36-8d7e-a1371f0550c7"
      }
     }
    },
    "912355ff-f072-4721-b70e-21404e947b79": {
     "id": "912355ff-f072-4721-b70e-21404e947b79",
     "prev": "fb6061bc-a213-4d64-83d7-564f5eb27499",
     "regions": {
      "19870136-8bb4-4136-9045-c0765d4c7694": {
       "attrs": {
        "height": 0.8,
        "width": 0.8,
        "x": 0.1,
        "y": 0.1
       },
       "content": {
        "cell": "bccfa74a-9ce1-4e3c-bdee-1d20eb58c482",
        "part": "whole"
       },
       "id": "19870136-8bb4-4136-9045-c0765d4c7694"
      }
     }
    },
    "914f710e-1567-4004-a3e4-47c2d76b8dbf": {
     "id": "914f710e-1567-4004-a3e4-47c2d76b8dbf",
     "prev": "c1a18f1c-50f5-4f91-a105-56417d2455f9",
     "regions": {
      "d20eba62-9349-4557-8067-16b3c36415a5": {
       "attrs": {
        "height": 0.8,
        "width": 0.8,
        "x": 0.1,
        "y": 0.1
       },
       "content": {
        "cell": "36b11bf3-b098-4d0c-af06-48d06b488d46",
        "part": "whole"
       },
       "id": "d20eba62-9349-4557-8067-16b3c36415a5"
      }
     }
    },
    "930ff7eb-c375-4d01-ae20-370210969d74": {
     "id": "930ff7eb-c375-4d01-ae20-370210969d74",
     "prev": "4be5608c-3247-4a6a-ae2f-bed7db727646",
     "regions": {
      "dfe837a9-ad47-435b-a7f1-70e6dbc93e8a": {
       "attrs": {
        "height": 0.8,
        "width": 0.8,
        "x": 0.1,
        "y": 0.1
       },
       "content": {
        "cell": "824d1394-85e7-4fcf-98cd-df5b66386b35",
        "part": "whole"
       },
       "id": "dfe837a9-ad47-435b-a7f1-70e6dbc93e8a"
      }
     }
    },
    "95a9b372-b56b-41c1-ad52-9a01d59cd0de": {
     "id": "95a9b372-b56b-41c1-ad52-9a01d59cd0de",
     "prev": "c3f1b563-875f-41d5-926f-6f84dde4a272",
     "regions": {
      "bdff4829-f4d5-487e-a33a-78a52da490cf": {
       "attrs": {
        "height": 0.8,
        "width": 0.8,
        "x": 0.1,
        "y": 0.1
       },
       "content": {
        "cell": "0392ed18-eeac-49da-ba04-4c7c3884f399",
        "part": "whole"
       },
       "id": "bdff4829-f4d5-487e-a33a-78a52da490cf"
      }
     }
    },
    "991fbc19-9c40-4d36-931a-2515cb8ff16a": {
     "id": "991fbc19-9c40-4d36-931a-2515cb8ff16a",
     "prev": "59709db9-6c90-4093-b2cb-78583da966ec",
     "regions": {
      "bb5ccae8-034f-46a4-b77d-71f3282ee18b": {
       "attrs": {
        "height": 0.8,
        "width": 0.8,
        "x": 0.1,
        "y": 0.1
       },
       "content": {
        "cell": "c1d51495-ad7c-4098-a797-90e18649c007",
        "part": "whole"
       },
       "id": "bb5ccae8-034f-46a4-b77d-71f3282ee18b"
      }
     }
    },
    "9e9899ea-69dc-4784-a3aa-48b52f687193": {
     "id": "9e9899ea-69dc-4784-a3aa-48b52f687193",
     "prev": "60dcbbcf-8f8f-463f-8425-9dad36624a69",
     "regions": {
      "798adbac-63f7-4eeb-a4f0-6018dc856809": {
       "attrs": {
        "height": 0.8,
        "width": 0.8,
        "x": 0.1,
        "y": 0.1
       },
       "content": {
        "cell": "a2e344da-82d6-43ca-8770-0bf5c92969eb",
        "part": "whole"
       },
       "id": "798adbac-63f7-4eeb-a4f0-6018dc856809"
      }
     }
    },
    "9eb111a3-1977-4798-a8a7-d143794e448c": {
     "id": "9eb111a3-1977-4798-a8a7-d143794e448c",
     "prev": "dd282c35-0d18-4dbf-bba0-c3c6f39da9b3",
     "regions": {
      "cce7751f-3ba9-437b-863f-90177cd6e218": {
       "attrs": {
        "height": 0.8,
        "width": 0.8,
        "x": 0.1,
        "y": 0.1
       },
       "content": {
        "cell": "c9fb3933-b52b-456f-a182-51399536a1d3",
        "part": "whole"
       },
       "id": "cce7751f-3ba9-437b-863f-90177cd6e218"
      }
     }
    },
    "a7130750-a392-4e69-befb-4ee883ae0643": {
     "id": "a7130750-a392-4e69-befb-4ee883ae0643",
     "prev": "83b3212e-9014-41c2-b40b-16d7691e6e9a",
     "regions": {
      "a337a2df-dcda-41e8-b23e-6c1daf586d93": {
       "attrs": {
        "height": 0.8,
        "width": 0.8,
        "x": 0.1,
        "y": 0.1
       },
       "content": {
        "cell": "4479b027-84ac-47a1-ae83-36170afec28e",
        "part": "whole"
       },
       "id": "a337a2df-dcda-41e8-b23e-6c1daf586d93"
      }
     }
    },
    "a7a6dd77-f471-457f-925a-f4279b92a6b0": {
     "id": "a7a6dd77-f471-457f-925a-f4279b92a6b0",
     "prev": "3225547b-8bfe-4a0d-8086-c4d6baeef616",
     "regions": {
      "b5e1b1d1-d69f-4c95-bd3d-a6dee975cb60": {
       "attrs": {
        "height": 0.8,
        "width": 0.8,
        "x": 0.1,
        "y": 0.1
       },
       "content": {
        "cell": "3037c13f-6b66-4ab1-9e5e-463ef0c134f0",
        "part": "whole"
       },
       "id": "b5e1b1d1-d69f-4c95-bd3d-a6dee975cb60"
      }
     }
    },
    "aa01f19d-85f1-442f-abfe-750e7f9e9abb": {
     "id": "aa01f19d-85f1-442f-abfe-750e7f9e9abb",
     "prev": "1e46c6e1-72bd-4298-bb4d-e070fef32008",
     "regions": {
      "d9be4590-f0da-4c07-982a-31317ecb54ad": {
       "attrs": {
        "height": 0.8,
        "width": 0.8,
        "x": 0.1,
        "y": 0.1
       },
       "content": {
        "cell": "a09af077-0550-4016-b96b-37c17a7414fb",
        "part": "whole"
       },
       "id": "d9be4590-f0da-4c07-982a-31317ecb54ad"
      }
     }
    },
    "aaad1800-de5e-4294-ab0d-cf74cc79c7e5": {
     "id": "aaad1800-de5e-4294-ab0d-cf74cc79c7e5",
     "prev": "c1823a17-94b3-47cb-9e8c-6d428852568a",
     "regions": {
      "b1c1b8b8-6a04-40a2-b279-9b6a1718886a": {
       "attrs": {
        "height": 0.8,
        "width": 0.8,
        "x": 0.1,
        "y": 0.1
       },
       "content": {
        "cell": "9dc69ec9-029c-45ef-80f9-7caf22ba3bad",
        "part": "whole"
       },
       "id": "b1c1b8b8-6a04-40a2-b279-9b6a1718886a"
      }
     }
    },
    "ac90e487-c18f-4c5e-b164-b65bd0ede4af": {
     "id": "ac90e487-c18f-4c5e-b164-b65bd0ede4af",
     "prev": "5a50813f-2174-4f52-abf3-787fb5345dd8",
     "regions": {
      "0cb0a84a-a67f-459a-b757-381c7fb2128b": {
       "attrs": {
        "height": 0.8,
        "width": 0.8,
        "x": 0.1,
        "y": 0.1
       },
       "content": {
        "cell": "a4a18006-712f-4b7a-b8d7-464dec1bbc22",
        "part": "whole"
       },
       "id": "0cb0a84a-a67f-459a-b757-381c7fb2128b"
      }
     }
    },
    "b1bbedc9-0c4b-41cd-a5c4-0c4e988129b2": {
     "id": "b1bbedc9-0c4b-41cd-a5c4-0c4e988129b2",
     "prev": "41570558-db82-4a79-acd6-10e1d5857cfa",
     "regions": {
      "96a4eb42-dd24-48ec-a51b-640fbde1fce6": {
       "attrs": {
        "height": 0.8,
        "width": 0.8,
        "x": 0.1,
        "y": 0.1
       },
       "content": {
        "cell": "05904436-fc56-45e7-bf46-4210ddefbcf3",
        "part": "whole"
       },
       "id": "96a4eb42-dd24-48ec-a51b-640fbde1fce6"
      }
     }
    },
    "b2ded831-94b6-4e8e-8ce9-4d9e0505cde2": {
     "id": "b2ded831-94b6-4e8e-8ce9-4d9e0505cde2",
     "prev": "fb8b17ed-9f0e-4d26-b4d9-724954135a55",
     "regions": {
      "c713cb26-e018-40ba-80d5-ee3b2d813251": {
       "attrs": {
        "height": 0.8,
        "width": 0.8,
        "x": 0.1,
        "y": 0.1
       },
       "content": {
        "cell": "230f7f69-bb76-4db7-bf53-13111d76b7c3",
        "part": "whole"
       },
       "id": "c713cb26-e018-40ba-80d5-ee3b2d813251"
      }
     }
    },
    "bbf0d44d-fc6c-46bb-a1f4-090dca0c5607": {
     "id": "bbf0d44d-fc6c-46bb-a1f4-090dca0c5607",
     "prev": "2cec227b-ed6d-489d-b00a-06c675050aa8",
     "regions": {
      "d82d583f-7c3d-45f6-964b-ac33cd3d9516": {
       "attrs": {
        "height": 0.8,
        "width": 0.8,
        "x": 0.1,
        "y": 0.1
       },
       "content": {
        "cell": "218945ba-6163-4bfc-846f-82664317034e",
        "part": "whole"
       },
       "id": "d82d583f-7c3d-45f6-964b-ac33cd3d9516"
      }
     }
    },
    "c1823a17-94b3-47cb-9e8c-6d428852568a": {
     "id": "c1823a17-94b3-47cb-9e8c-6d428852568a",
     "prev": "408c390f-c39f-4c97-a48d-be0459ecbc3e",
     "regions": {
      "b448919d-637e-43b0-bb55-7cb57e31eee6": {
       "attrs": {
        "height": 0.8,
        "width": 0.8,
        "x": 0.1,
        "y": 0.1
       },
       "content": {
        "cell": "b7d2a2ad-049f-48aa-8bc1-3e477e346ae3",
        "part": "whole"
       },
       "id": "b448919d-637e-43b0-bb55-7cb57e31eee6"
      }
     }
    },
    "c1a18f1c-50f5-4f91-a105-56417d2455f9": {
     "id": "c1a18f1c-50f5-4f91-a105-56417d2455f9",
     "prev": "ef5f8dbc-aa39-4a3c-a61b-30554270e970",
     "regions": {
      "47595062-fb21-42b7-bd49-ba4dd60278b9": {
       "attrs": {
        "height": 0.8,
        "width": 0.8,
        "x": 0.1,
        "y": 0.1
       },
       "content": {
        "cell": "b02a1942-02b3-4ee5-8c15-ecf05a3d65ff",
        "part": "whole"
       },
       "id": "47595062-fb21-42b7-bd49-ba4dd60278b9"
      }
     }
    },
    "c2d19102-a5f4-446c-b0c8-7ad8ca2931dd": {
     "id": "c2d19102-a5f4-446c-b0c8-7ad8ca2931dd",
     "prev": "a7130750-a392-4e69-befb-4ee883ae0643",
     "regions": {
      "3faa34e0-bdfd-4079-bb2b-f084da20c273": {
       "attrs": {
        "height": 0.8,
        "width": 0.8,
        "x": 0.1,
        "y": 0.1
       },
       "content": {
        "cell": "c9b62577-25ae-40fd-b631-c98cf068154c",
        "part": "whole"
       },
       "id": "3faa34e0-bdfd-4079-bb2b-f084da20c273"
      }
     }
    },
    "c3305afe-e82f-4440-990d-333432c7d271": {
     "id": "c3305afe-e82f-4440-990d-333432c7d271",
     "prev": "1ef5fcfb-c9bc-491f-93e4-3773f57f4ba8",
     "regions": {
      "d036429c-1f29-4afd-a610-22223c45f804": {
       "attrs": {
        "height": 0.8,
        "width": 0.8,
        "x": 0.1,
        "y": 0.1
       },
       "content": {
        "cell": "2f8e8950-8a58-4f8c-a1a6-b21d7274dfc0",
        "part": "whole"
       },
       "id": "d036429c-1f29-4afd-a610-22223c45f804"
      }
     }
    },
    "c3f1b563-875f-41d5-926f-6f84dde4a272": {
     "id": "c3f1b563-875f-41d5-926f-6f84dde4a272",
     "prev": "e95ed460-b430-4ff8-9bd7-39f437e79087",
     "regions": {
      "f7f31be5-1327-43ed-8853-edc30fcafb24": {
       "attrs": {
        "height": 0.8,
        "width": 0.8,
        "x": 0.1,
        "y": 0.1
       },
       "content": {
        "cell": "4dd373df-e2a5-4b06-a8ef-f8e454606691",
        "part": "whole"
       },
       "id": "f7f31be5-1327-43ed-8853-edc30fcafb24"
      }
     }
    },
    "ca2e5ac9-cb7b-4fd0-871f-cba1a862db1b": {
     "id": "ca2e5ac9-cb7b-4fd0-871f-cba1a862db1b",
     "prev": "7cceb738-5c42-45b5-baa1-204461a4e60e",
     "regions": {
      "fa22e355-04ce-45d2-88fc-136bc0eb6384": {
       "attrs": {
        "height": 0.8,
        "width": 0.8,
        "x": 0.1,
        "y": 0.1
       },
       "content": {
        "cell": "f14f5009-ce7b-4933-9389-23546661f923",
        "part": "whole"
       },
       "id": "fa22e355-04ce-45d2-88fc-136bc0eb6384"
      }
     }
    },
    "d02a79c6-bead-41f9-8651-505451346ec8": {
     "id": "d02a79c6-bead-41f9-8651-505451346ec8",
     "prev": "e4f60eb5-deac-434f-ad05-98780b20b92d",
     "regions": {
      "d441349c-6be7-4caa-80ef-79ffaa72b44a": {
       "attrs": {
        "height": 0.8,
        "width": 0.8,
        "x": 0.1,
        "y": 0.1
       },
       "content": {
        "cell": "dd5a0146-801b-496a-ba00-a10111e09cf8",
        "part": "whole"
       },
       "id": "d441349c-6be7-4caa-80ef-79ffaa72b44a"
      }
     }
    },
    "d3110147-3441-4931-831f-0d5054777812": {
     "id": "d3110147-3441-4931-831f-0d5054777812",
     "prev": "90a1b873-0cae-4769-b46c-d2de4536c909",
     "regions": {
      "08fcec04-2b64-41dc-a328-dc4a50a32694": {
       "attrs": {
        "height": 0.8,
        "width": 0.8,
        "x": 0.1,
        "y": 0.1
       },
       "content": {
        "cell": "66db513a-74e7-4450-9394-330925d7da53",
        "part": "whole"
       },
       "id": "08fcec04-2b64-41dc-a328-dc4a50a32694"
      }
     }
    },
    "d3596fe7-a669-41a8-a1ec-f2cbb8603cff": {
     "id": "d3596fe7-a669-41a8-a1ec-f2cbb8603cff",
     "prev": "8d80fdba-b665-42f4-a9b4-5c1d7844889b",
     "regions": {
      "853891a1-cf40-4bca-98ff-64e7d8c7de60": {
       "attrs": {
        "height": 0.8,
        "width": 0.8,
        "x": 0.1,
        "y": 0.1
       },
       "content": {
        "cell": "19064cc7-b96f-482c-9fed-5fc06042644d",
        "part": "whole"
       },
       "id": "853891a1-cf40-4bca-98ff-64e7d8c7de60"
      }
     }
    },
    "d9c22ce6-a589-43c6-b035-54cac17f63ce": {
     "id": "d9c22ce6-a589-43c6-b035-54cac17f63ce",
     "prev": "0db704ec-ffae-4937-94b2-863f4fdedf00",
     "regions": {
      "e05b95d0-bec7-45a3-ae5b-78cde450b8c0": {
       "attrs": {
        "height": 0.8,
        "width": 0.8,
        "x": 0.1,
        "y": 0.1
       },
       "content": {
        "cell": "9441430e-65d8-4dda-bf57-a1429c9702bc",
        "part": "whole"
       },
       "id": "e05b95d0-bec7-45a3-ae5b-78cde450b8c0"
      }
     }
    },
    "dd282c35-0d18-4dbf-bba0-c3c6f39da9b3": {
     "id": "dd282c35-0d18-4dbf-bba0-c3c6f39da9b3",
     "prev": "1b92bdc2-9d44-490c-9375-d1face5fc766",
     "regions": {
      "33b9ecfa-2e57-4c70-a4c1-4b2c66cf4f49": {
       "attrs": {
        "height": 0.8,
        "width": 0.8,
        "x": 0.1,
        "y": 0.1
       },
       "content": {
        "cell": "28777990-3b91-4a64-a370-1299d50dc1ab",
        "part": "whole"
       },
       "id": "33b9ecfa-2e57-4c70-a4c1-4b2c66cf4f49"
      }
     }
    },
    "de44310f-7a01-41c7-939c-ef2b7d3ebdd8": {
     "id": "de44310f-7a01-41c7-939c-ef2b7d3ebdd8",
     "prev": "037a89a3-4cc6-4d9c-81cd-1aa668f4944d",
     "regions": {
      "e0aab5a1-219e-46ed-afee-57c8e24b87ce": {
       "attrs": {
        "height": 0.8,
        "width": 0.8,
        "x": 0.1,
        "y": 0.1
       },
       "content": {
        "cell": "64d8186e-9e7f-407b-a005-76632c6aefb0",
        "part": "whole"
       },
       "id": "e0aab5a1-219e-46ed-afee-57c8e24b87ce"
      }
     }
    },
    "e4f60eb5-deac-434f-ad05-98780b20b92d": {
     "id": "e4f60eb5-deac-434f-ad05-98780b20b92d",
     "prev": "c3305afe-e82f-4440-990d-333432c7d271",
     "regions": {
      "09faa6ad-2c72-4cf0-aa4e-2083ae3bd51e": {
       "attrs": {
        "height": 0.8,
        "width": 0.8,
        "x": 0.1,
        "y": 0.1
       },
       "content": {
        "cell": "f8daad2e-b89f-47b6-80fc-688152f93585",
        "part": "whole"
       },
       "id": "09faa6ad-2c72-4cf0-aa4e-2083ae3bd51e"
      }
     }
    },
    "e95ed460-b430-4ff8-9bd7-39f437e79087": {
     "id": "e95ed460-b430-4ff8-9bd7-39f437e79087",
     "prev": "f548c3d6-78ad-4826-aee0-9746bb2838fc",
     "regions": {
      "f798e91e-ef5b-42c9-a686-753d30862ec2": {
       "attrs": {
        "height": 0.8,
        "width": 0.8,
        "x": 0.1,
        "y": 0.1
       },
       "content": {
        "cell": "55e1b8f1-accf-4f22-ab6c-3ea943756c29",
        "part": "whole"
       },
       "id": "f798e91e-ef5b-42c9-a686-753d30862ec2"
      }
     }
    },
    "ed5954e7-ea9c-4a54-a1d6-8a63f8498d42": {
     "id": "ed5954e7-ea9c-4a54-a1d6-8a63f8498d42",
     "prev": "83bb9645-c8a1-4a58-b8f7-c36f7e7ef8a8",
     "regions": {
      "3ac33404-2281-4f5d-a89a-6f513c86614a": {
       "attrs": {
        "height": 0.8,
        "width": 0.8,
        "x": 0.1,
        "y": 0.1
       },
       "content": {
        "cell": "57af605d-3273-4df5-a445-a69fe6f46f9b",
        "part": "whole"
       },
       "id": "3ac33404-2281-4f5d-a89a-6f513c86614a"
      }
     }
    },
    "ef5f8dbc-aa39-4a3c-a61b-30554270e970": {
     "id": "ef5f8dbc-aa39-4a3c-a61b-30554270e970",
     "prev": "5d740297-655b-41bf-b817-b4fa35882d08",
     "regions": {
      "684e30b3-edc0-4f65-889c-7d3727267d9f": {
       "attrs": {
        "height": 0.8,
        "width": 0.8,
        "x": 0.1,
        "y": 0.1
       },
       "content": {
        "cell": "ae00a763-6ee9-4bc2-b9d6-e55bc6f34c29",
        "part": "whole"
       },
       "id": "684e30b3-edc0-4f65-889c-7d3727267d9f"
      }
     }
    },
    "f46528a9-2056-4c2a-a4c0-720b41db1430": {
     "id": "f46528a9-2056-4c2a-a4c0-720b41db1430",
     "prev": "9e9899ea-69dc-4784-a3aa-48b52f687193",
     "regions": {
      "3b7d5ff6-1fe9-4384-9bd2-81e7d0faa954": {
       "attrs": {
        "height": 0.8,
        "width": 0.8,
        "x": 0.1,
        "y": 0.1
       },
       "content": {
        "cell": "ec3287b6-90e9-4de9-b6e5-be2c9e78ca9d",
        "part": "whole"
       },
       "id": "3b7d5ff6-1fe9-4384-9bd2-81e7d0faa954"
      }
     }
    },
    "f548c3d6-78ad-4826-aee0-9746bb2838fc": {
     "id": "f548c3d6-78ad-4826-aee0-9746bb2838fc",
     "prev": "89683937-c422-44aa-a02d-298e119a1fe4",
     "regions": {
      "b3290806-5e53-4b08-bacd-aca36b506536": {
       "attrs": {
        "height": 0.8,
        "width": 0.8,
        "x": 0.1,
        "y": 0.1
       },
       "content": {
        "cell": "374fb351-7edb-4c7c-b4af-c0981ffe2836",
        "part": "whole"
       },
       "id": "b3290806-5e53-4b08-bacd-aca36b506536"
      }
     }
    },
    "fb6061bc-a213-4d64-83d7-564f5eb27499": {
     "id": "fb6061bc-a213-4d64-83d7-564f5eb27499",
     "prev": "c2d19102-a5f4-446c-b0c8-7ad8ca2931dd",
     "regions": {
      "307fb692-774c-4ab3-a054-4e0e65bbba4b": {
       "attrs": {
        "height": 0.8,
        "width": 0.8,
        "x": 0.1,
        "y": 0.1
       },
       "content": {
        "cell": "491414eb-397d-4663-85c1-8a93a49f17a2",
        "part": "whole"
       },
       "id": "307fb692-774c-4ab3-a054-4e0e65bbba4b"
      }
     }
    },
    "fb8b17ed-9f0e-4d26-b4d9-724954135a55": {
     "id": "fb8b17ed-9f0e-4d26-b4d9-724954135a55",
     "prev": "ed5954e7-ea9c-4a54-a1d6-8a63f8498d42",
     "regions": {
      "6fe9bcff-76ad-46a2-8245-2d9dcc6fd6df": {
       "attrs": {
        "height": 0.8,
        "width": 0.8,
        "x": 0.1,
        "y": 0.1
       },
       "content": {
        "cell": "f0cf8802-c242-40c7-b88b-d58a255e54fc",
        "part": "whole"
       },
       "id": "6fe9bcff-76ad-46a2-8245-2d9dcc6fd6df"
      }
     }
    }
   },
   "themes": {}
  },
  "toc": {
   "base_numbering": 1,
   "nav_menu": {},
   "number_sections": false,
   "sideBar": true,
   "skip_h1_title": false,
   "title_cell": "Table of Contents",
   "title_sidebar": "Contents",
   "toc_cell": false,
   "toc_position": {},
   "toc_section_display": true,
   "toc_window_display": false
  },
  "varInspector": {
   "cols": {
    "lenName": 16,
    "lenType": 16,
    "lenVar": 40
   },
   "kernels_config": {
    "python": {
     "delete_cmd_postfix": "",
     "delete_cmd_prefix": "del ",
     "library": "var_list.py",
     "varRefreshCmd": "print(var_dic_list())"
    },
    "r": {
     "delete_cmd_postfix": ") ",
     "delete_cmd_prefix": "rm(",
     "library": "var_list.r",
     "varRefreshCmd": "cat(var_dic_list()) "
    }
   },
   "types_to_exclude": [
    "module",
    "function",
    "builtin_function_or_method",
    "instance",
    "_Feature"
   ],
   "window_display": false
  }
 },
 "nbformat": 4,
 "nbformat_minor": 4
}
